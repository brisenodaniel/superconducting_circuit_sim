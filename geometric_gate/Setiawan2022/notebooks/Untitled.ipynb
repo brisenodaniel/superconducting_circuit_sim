{
 "cells": [
  {
   "cell_type": "code",
   "execution_count": 1,
   "id": "e855b63f-a394-4c47-96d3-78271a1bd61c",
   "metadata": {},
   "outputs": [],
   "source": [
    "import qutip as qt\n",
    "import numpy as np\n",
    "import matplotlib.pyplot as plt\n",
    "import module_path\n",
    "import sys\n",
    "#add modules to path\n",
    "modules: str = module_path.add_module_path()\n",
    "sys.path.append(modules)\n",
    "import gate\n",
    "import file_io\n",
    "import simulation_setup as setup\n",
    "import pulse\n",
    "from pulse import Pulse\n",
    "import composite_systems as systems\n",
    "import state_labeling as lbl\n",
    "from random import random"
   ]
  },
  {
   "cell_type": "markdown",
   "id": "2de951cf-cbeb-4c4e-b367-37ab9b0f3eac",
   "metadata": {},
   "source": [
    "Make Custom Unitary"
   ]
  },
  {
   "cell_type": "code",
   "execution_count": 2,
   "id": "e35773db-6f4d-4897-ae4f-2d2e2f8c5a18",
   "metadata": {},
   "outputs": [
    {
     "data": {
      "text/latex": [
       "Quantum object: dims = [[2, 2], [2, 2]], shape = (4, 4), type = oper, isherm = False $ \\\\ \\left(\\begin{matrix}(0.159+0.987j) & 0.0 & 0.0 & 0.0\\\\0.0 & (-0.975-0.221j) & 0.0 & 0.0\\\\0.0 & 0.0 & (0.656-0.755j) & 0.0\\\\0.0 & 0.0 & 0.0 & (-0.456-0.890j)\\\\\\end{matrix}\\right)$"
      ],
      "text/plain": [
       "Quantum object: dims = [[2, 2], [2, 2]], shape = (4, 4), type = oper, isherm = False\n",
       "Qobj data =\n",
       "[[ 0.15853947+0.98735264j  0.        +0.j          0.        +0.j\n",
       "   0.        +0.j        ]\n",
       " [ 0.        +0.j         -0.97526206-0.22105185j  0.        +0.j\n",
       "   0.        +0.j        ]\n",
       " [ 0.        +0.j          0.        +0.j          0.65586337-0.75487962j\n",
       "   0.        +0.j        ]\n",
       " [ 0.        +0.j          0.        +0.j          0.        +0.j\n",
       "  -0.45588513-0.89003862j]]"
      ]
     },
     "metadata": {},
     "output_type": "display_data"
    },
    {
     "data": {
      "text/latex": [
       "Quantum object: dims = [[2, 2], [2, 2]], shape = (4, 4), type = oper, isherm = True $ \\\\ \\left(\\begin{matrix}1.000 & 0.0 & 0.0 & 0.0\\\\0.0 & 1.000 & 0.0 & 0.0\\\\0.0 & 0.0 & 1.0 & 0.0\\\\0.0 & 0.0 & 0.0 & -1.0\\\\\\end{matrix}\\right)$"
      ],
      "text/plain": [
       "Quantum object: dims = [[2, 2], [2, 2]], shape = (4, 4), type = oper, isherm = True\n",
       "Qobj data =\n",
       "[[ 1.  0.  0.  0.]\n",
       " [ 0.  1.  0.  0.]\n",
       " [ 0.  0.  1.  0.]\n",
       " [ 0.  0.  0. -1.]]"
      ]
     },
     "metadata": {},
     "output_type": "display_data"
    }
   ],
   "source": [
    "rng = np.random.default_rng()\n",
    "global_phase = random()*2*np.pi\n",
    "phi_00 = 0\n",
    "phi_11 = random()*2*np.pi + phi_00\n",
    "phi_22 = random()*2*np.pi + phi_00\n",
    "phi_33 = np.pi + phi_00 + phi_11 + phi_22\n",
    "test_diag = [np.exp(phi_00*1j), np.exp(phi_11*1j), np.exp(phi_22*1j), np.exp(1j*phi_33)]\n",
    "U_test = qt.qdiags(test_diag, dims=[[2,2],[2,2]], offsets=0) * np.exp(1j*global_phase)\n",
    "display(U_test)\n",
    "U = gate._trivial_z_qs(U_test)\n",
    "display(U)\n"
   ]
  },
  {
   "cell_type": "code",
   "execution_count": 3,
   "id": "e9bf2c65-9611-4061-93c1-a210224db96f",
   "metadata": {},
   "outputs": [
    {
     "data": {
      "text/plain": [
       "[0, 6.130889113531649, 0.9350630415907968, 10.207544808712237]"
      ]
     },
     "execution_count": 3,
     "metadata": {},
     "output_type": "execute_result"
    }
   ],
   "source": [
    "[phi_00, phi_11, phi_22, phi_33]"
   ]
  },
  {
   "cell_type": "code",
   "execution_count": 4,
   "id": "a3f0382f-953e-4544-bac0-7f05dafbe8f5",
   "metadata": {},
   "outputs": [
    {
     "data": {
      "text/plain": [
       "(-0.7249879021777037+0.6887616000445818j)"
      ]
     },
     "execution_count": 4,
     "metadata": {},
     "output_type": "execute_result"
    }
   ],
   "source": [
    "zz = U_test[3,3]\n",
    "zz *(U_test[0,0].conjugate()/abs(U_test[0,0])) * U_test[1,1].conjugate() * U_test[2,2].conjugate()"
   ]
  },
  {
   "cell_type": "code",
   "execution_count": 5,
   "id": "e4d632a9-dd31-48b1-b371-d60a649d5395",
   "metadata": {},
   "outputs": [
    {
     "data": {
      "text/plain": [
       "(-1+1.8988215193149856e-15j)"
      ]
     },
     "execution_count": 5,
     "metadata": {},
     "output_type": "execute_result"
    }
   ],
   "source": [
    "np.exp(1j*(phi_33 - (phi_00 + phi_11 + phi_22)))"
   ]
  },
  {
   "cell_type": "code",
   "execution_count": 6,
   "id": "2cd387da-6155-44c9-a8d3-a5e4aa9bb94b",
   "metadata": {},
   "outputs": [
    {
     "data": {
      "text/latex": [
       "Quantum object: dims = [[2, 2], [2, 2]], shape = (4, 4), type = oper, isherm = True $ \\\\ \\left(\\begin{matrix}1.0 & 0.0 & 0.0 & 0.0\\\\0.0 & 1.000 & 0.0 & 0.0\\\\0.0 & 0.0 & 1.000 & 0.0\\\\0.0 & 0.0 & 0.0 & -1.000\\\\\\end{matrix}\\right)$"
      ],
      "text/plain": [
       "Quantum object: dims = [[2, 2], [2, 2]], shape = (4, 4), type = oper, isherm = True\n",
       "Qobj data =\n",
       "[[ 1.  0.  0.  0.]\n",
       " [ 0.  1.  0.  0.]\n",
       " [ 0.  0.  1.  0.]\n",
       " [ 0.  0.  0. -1.]]"
      ]
     },
     "execution_count": 6,
     "metadata": {},
     "output_type": "execute_result"
    }
   ],
   "source": [
    "U = U_test * (U_test[0,0].conjugate()/abs(U_test[0,0]))\n",
    "triv_z_diag = [U[i,i].conjugate()/abs(U[i,i]) for i in range(3)]\n",
    "triv_z_diag.append(U[1,1].conjugate()*U[2,2].conjugate()/(abs(U[1,1])*abs(U[2,2])))\n",
    "triv_z = (U_test[0,0].conjugate()/abs(U_test[0,0])) * qt.qdiags(triv_z_diag, offsets=0, dims=[[2,2],[2,2]])\n",
    "triv_z * U_test"
   ]
  },
  {
   "cell_type": "code",
   "execution_count": 7,
   "id": "c27d5cbc-c4c0-4ac9-9833-175228d7065d",
   "metadata": {},
   "outputs": [
    {
     "data": {
      "text/plain": [
       "-3.1415926535897944"
      ]
     },
     "execution_count": 7,
     "metadata": {},
     "output_type": "execute_result"
    }
   ],
   "source": [
    "ang = np.angle\n",
    "ang(U[3,3]) - ang(U[2,2]) - ang(U[1,1])"
   ]
  },
  {
   "cell_type": "code",
   "execution_count": 8,
   "id": "0255ba2c-9bfa-4a39-baa5-fd1aa63b723b",
   "metadata": {},
   "outputs": [
    {
     "data": {
      "text/plain": [
       "(-0.976865437439626-0.21385489738579366j)"
      ]
     },
     "execution_count": 8,
     "metadata": {},
     "output_type": "execute_result"
    }
   ],
   "source": [
    "np.exp(1j*3.357112111270943)"
   ]
  },
  {
   "cell_type": "code",
   "execution_count": 9,
   "id": "91f273eb-8e93-4335-8f42-c6a63180c3b6",
   "metadata": {},
   "outputs": [
    {
     "data": {
      "text/plain": [
       "1.1626565965779165"
      ]
     },
     "execution_count": 9,
     "metadata": {},
     "output_type": "execute_result"
    }
   ],
   "source": [
    "ang(U_test[3,3])"
   ]
  },
  {
   "cell_type": "code",
   "execution_count": 10,
   "id": "37700f72-5189-4a38-a82c-be6f4e794b8f",
   "metadata": {},
   "outputs": [
    {
     "data": {
      "text/plain": [
       "-4.36074921333155"
      ]
     },
     "execution_count": 10,
     "metadata": {},
     "output_type": "execute_result"
    }
   ],
   "source": [
    "sum([ang(U_test[i,i]) for i in range(3)]) + np.pi"
   ]
  },
  {
   "cell_type": "code",
   "execution_count": 11,
   "id": "3de514c7-6628-43f9-8270-2ed5af8c11a9",
   "metadata": {},
   "outputs": [
    {
     "data": {
      "text/latex": [
       "Quantum object: dims = [[2, 2], [2, 2]], shape = (4, 4), type = oper, isherm = False $ \\\\ \\left(\\begin{matrix}(-0.929-0.371j) & 0.0 & 0.0 & 0.0\\\\0.0 & (-0.974-0.226j) & 0.0 & 0.0\\\\0.0 & 0.0 & (-0.253-0.967j) & 0.0\\\\0.0 & 0.0 & 0.0 & (0.397+0.918j)\\\\\\end{matrix}\\right)$"
      ],
      "text/plain": [
       "Quantum object: dims = [[2, 2], [2, 2]], shape = (4, 4), type = oper, isherm = False\n",
       "Qobj data =\n",
       "[[-0.92870552-0.37081808j  0.        +0.j          0.        +0.j\n",
       "   0.        +0.j        ]\n",
       " [ 0.        +0.j         -0.97421219-0.22563379j  0.        +0.j\n",
       "   0.        +0.j        ]\n",
       " [ 0.        +0.j          0.        +0.j         -0.25306158-0.96745017j\n",
       "   0.        +0.j        ]\n",
       " [ 0.        +0.j          0.        +0.j          0.        +0.j\n",
       "   0.39690255+0.91786076j]]"
      ]
     },
     "execution_count": 11,
     "metadata": {},
     "output_type": "execute_result"
    }
   ],
   "source": [
    "U_test"
   ]
  },
  {
   "cell_type": "code",
   "execution_count": 12,
   "id": "96b5c5da-195d-49e4-b5cd-a86f6000f852",
   "metadata": {},
   "outputs": [
    {
     "data": {
      "text/plain": [
       "0.0"
      ]
     },
     "execution_count": 12,
     "metadata": {},
     "output_type": "execute_result"
    }
   ],
   "source": [
    "ang(U[0,0])"
   ]
  },
  {
   "cell_type": "code",
   "execution_count": 3,
   "id": "9838da18-0ec2-4ddf-a34f-3ccb6c9eb6c0",
   "metadata": {},
   "outputs": [],
   "source": [
    "configs = setup.setup_sim_from_configs(pulse_lbls=['CZ-400ns'])\n",
    "pulse_profile = configs[1]['CZ-400ns']\n"
   ]
  },
  {
   "cell_type": "code",
   "execution_count": 4,
   "id": "d973bae3-3112-4336-b20d-352722c31c63",
   "metadata": {},
   "outputs": [
    {
     "data": {
      "text/plain": [
       "{'w_ee0_ge1': -0.841234587561601, 'w_gf0_ge1': -2.42927705886077}"
      ]
     },
     "metadata": {},
     "output_type": "display_data"
    },
    {
     "data": {
      "text/plain": [
       "{'w_ee0_ge1': -0.84, 'w_gf0_ge1': -2.43}"
      ]
     },
     "metadata": {},
     "output_type": "display_data"
    }
   ],
   "source": [
    "pulse_params = pulse_profile.pulse_config.pulse_params\n",
    "ct = pulse_profile.circuit\n",
    "\n",
    "static_attr = pulse.StaticPulseAttr(pulse_params, ct)\n",
    "\n",
    "en_ee0 = static_attr.eigenen('ee0')\n",
    "en_ge1 = static_attr.eigenen('ge1')\n",
    "en_gf0 = static_attr.eigenen('gf0')\n",
    "\n",
    "sim_trans_freq = {'w_ee0_ge1': (en_ge1 - en_ee0)/(2*np.pi),\n",
    "                  'w_gf0_ge1': (en_ge1 - en_gf0)/(2*np.pi)}\n",
    "paper_trans_freq = {'w_ee0_ge1': -0.84,\n",
    "                    'w_gf0_ge1': -2.43}\n",
    "\n",
    "display(sim_trans_freq)\n",
    "display(paper_trans_freq)"
   ]
  },
  {
   "cell_type": "code",
   "execution_count": 5,
   "id": "3612ed37-7b5a-451a-ae65-20360b578e1e",
   "metadata": {},
   "outputs": [],
   "source": [
    "pulse = Pulse(pulse_params, ct)\n",
    "tg = pulse_profile.pulse_config.pulse_params['tg']\n",
    "dt = pulse_profile.pulse_config.pulse_params['dt']\n",
    "t_ramp = pulse_profile.pulse_config.pulse_params['t_ramp']\n",
    "tlist = np.arange(0, tg + 2 * t_ramp, dt)\n",
    "tlist = tlist[::100]\n",
    "gs = pulse._Pulse__g_ac(tlist, np.pi)"
   ]
  },
  {
   "cell_type": "code",
   "execution_count": 6,
   "id": "dc49e2b9-2031-4759-8d13-0fb514cef8e2",
   "metadata": {},
   "outputs": [
    {
     "name": "stderr",
     "output_type": "stream",
     "text": [
      "/tmp/ipykernel_96762/3943748215.py:15: ComplexWarning: Casting complex values to real discards the imaginary part\n",
      "  detuning_arr['A'][i] = w_A - deltas['A'][i]\n",
      "/tmp/ipykernel_96762/3943748215.py:16: ComplexWarning: Casting complex values to real discards the imaginary part\n",
      "  detuning_arr['B'][i] = w_B - deltas['B'][i]\n"
     ]
    },
    {
     "data": {
      "image/png": "[encoded data removed]",
      "text/plain": [
       "<Figure size 640x480 with 1 Axes>"
      ]
     },
     "metadata": {},
     "output_type": "display_data"
    }
   ],
   "source": [
    "deltas = pulse._Pulse__w_mod(gs)\n",
    "n: qt.Qobj = ct.get_raised_op('C', ['a'],\n",
    "                     lambda a: a.dag()*a)\n",
    "pulse_arr = pulse_profile.pulse\n",
    "pulse_arr = pulse_arr[::100]\n",
    "\n",
    "detuning_arr = {'A': np.empty(len(pulse_arr)),\n",
    "               'B': np.empty(len(pulse_arr))}\n",
    "for i, p in enumerate(pulse_arr):\n",
    "    H_eff = ct.H + p*n\n",
    "    energies = H_eff.eigenenergies()\n",
    "    energies = energies-energies[0]\n",
    "    w_A = pulse.static_attr.eigenen('ge1') - pulse.static_attr.eigenen('ee0')\n",
    "    w_B = pulse.static_attr.eigenen('ge1') - pulse.static_attr.eigenen('gf0')\n",
    "    detuning_arr['A'][i] = w_A - deltas['A'][i]\n",
    "    detuning_arr['B'][i] = w_B - deltas['B'][i]\n",
    "\n",
    "\n",
    "   \n",
    "\n",
    "fig_det, ax_det = plt.subplots()\n",
    "ax_det.plot(tlist, detuning_arr['A'], label=r'err $\\omega_A$')\n",
    "ax_det.plot(tlist, detuning_arr['B'], label=r'err $\\omega_B$')\n",
    "ax_det.set_ylabel(r'$\\tilde \\omega_{mod, \\; j} - \\epsilon_j(t)$, (GHz)')\n",
    "ax_det.set_xlabel(r'time (ns)')\n",
    "ax_det.set_title('Frequency Chirp Error')\n",
    "ax_det.legend()\n",
    "plt.show()\n",
    "    \n",
    "    "
   ]
  },
  {
   "cell_type": "code",
   "execution_count": 7,
   "id": "d893ea70-6d3f-4279-a9bd-eb5cc82140e5",
   "metadata": {},
   "outputs": [],
   "source": [
    "H = ct.H\n",
    "\n",
    "eigenens = H.eigenenergies()\n",
    "eigenens -= eigenens[0]\n",
    "\n",
    "e00, e11, e01, e10 = [\n",
    "    eigenens[pulse.static_attr.state_idx(lbl)]\n",
    "    for lbl in ('ggg', 'eeg', 'geg', 'egg')\n",
    "]\n",
    "\n",
    "zz = e11 + e00 - e01 -e10"
   ]
  },
  {
   "cell_type": "code",
   "execution_count": 8,
   "id": "f76ac896-0d02-4d7a-b6ac-4078559ae1a4",
   "metadata": {},
   "outputs": [
    {
     "data": {
      "text/plain": [
       "-11.809261759126716"
      ]
     },
     "execution_count": 8,
     "metadata": {},
     "output_type": "execute_result"
    }
   ],
   "source": [
    "zz*1e6/(2*np.pi)"
   ]
  },
  {
   "cell_type": "code",
   "execution_count": 9,
   "id": "0c49c560-1be0-4fda-b1c5-b718e6881c87",
   "metadata": {},
   "outputs": [
    {
     "data": {
      "text/plain": [
       "1.7200000000000002"
      ]
     },
     "execution_count": 9,
     "metadata": {},
     "output_type": "execute_result"
    }
   ],
   "source": [
    "ee0, ge1, gf0, gg1, eg0, ge0 = [\n",
    "    eigenens[pulse.static_attr.state_idx(lbl)]\n",
    "    for lbl in ('ee0','ge1','gf0','gg1', 'eg0','ge0')]\n",
    "(abs(gf0-ge1) - abs(eg0-gg1))/(2*np.pi)\n",
    "\n",
    "2.43 - 0.71"
   ]
  },
  {
   "cell_type": "code",
   "execution_count": 10,
   "id": "8c6e0355-764d-43b6-b6e6-8f72ac3291dd",
   "metadata": {},
   "outputs": [],
   "source": [
    "A = ct.subsystems['A']\n",
    "B = ct.subsystems['B']\n",
    "eigenensA = A.H.eigenenergies()\n",
    "eigenensB = B.H.eigenenergies()\n",
    "w_A = eigenensA[1] - eigenensA[0]\n",
    "w_B = eigenensB[1] - eigenensB[0]"
   ]
  },
  {
   "cell_type": "code",
   "execution_count": 11,
   "id": "9034b9a9-0cc9-4c28-8f70-0a7a0746aee2",
   "metadata": {},
   "outputs": [
    {
     "data": {
      "text/plain": [
       "1.7931645407874008"
      ]
     },
     "metadata": {},
     "output_type": "display_data"
    },
    {
     "data": {
      "text/plain": [
       "0.8617981083845541"
      ]
     },
     "metadata": {},
     "output_type": "display_data"
    }
   ],
   "source": [
    "display(w_A/(2*np.pi), w_B/(2*np.pi))"
   ]
  },
  {
   "cell_type": "code",
   "execution_count": 12,
   "id": "1be6d171-37e5-4fe3-a36d-df645e957820",
   "metadata": {},
   "outputs": [
    {
     "name": "stdout",
     "output_type": "stream",
     "text": [
      "k: eg0 l: gg1 <k|a.dag()a|l> (0.18069260493411043-0.0011079171744717805j)\n",
      "k: ge0 l: gg1 <k|a.dag()a|l> (0.3658695343054887+0.0018707404366632117j)\n"
     ]
    }
   ],
   "source": [
    "a = ct.get_raised_op('C', 'a')\n",
    "n = a.dag()*a\n",
    "n = n.transform(ct.H.eigenstates()[1])\n",
    "for k, l in [('eg0','gg1'), ('ge0', 'gg1')]:\n",
    "    kidx = pulse.static_attr.state_idx(k)\n",
    "    lidx = pulse.static_attr.state_idx(l)\n",
    "    print('k:', k, 'l:', l, '<k|a.dag()a|l>', n[kidx,lidx])\n",
    "    \n",
    "    "
   ]
  },
  {
   "cell_type": "code",
   "execution_count": 23,
   "id": "3745441d-612f-4942-b5e1-ac8687366cc7",
   "metadata": {},
   "outputs": [
    {
     "name": "stdout",
     "output_type": "stream",
     "text": [
      "0\n",
      "4\n",
      "1\n",
      "6\n",
      "2\n",
      "13\n",
      "3\n"
     ]
    }
   ],
   "source": [
    "for state in ('ggg', 'egg','geg','eeg','gg1','gf0', 'ge1'):\n",
    "    print(pulse.static_attr.state_idx(state))"
   ]
  },
  {
   "cell_type": "code",
   "execution_count": 27,
   "id": "fcf3be74-1470-48c9-a5b1-e13b5e5afe79",
   "metadata": {},
   "outputs": [
    {
     "data": {
      "text/plain": [
       "(<Figure size 800x600 with 2 Axes>, <Axes: >)"
      ]
     },
     "execution_count": 27,
     "metadata": {},
     "output_type": "execute_result"
    },
    {
     "data": {
      "image/png": "[encoded data removed]",
      "text/plain": [
       "<Figure size 800x600 with 2 Axes>"
      ]
     },
     "metadata": {},
     "output_type": "display_data"
    }
   ],
   "source": [
    "ct.H\n",
    "qt.hinton(ct.H)"
   ]
  },
  {
   "cell_type": "code",
   "execution_count": 28,
   "id": "a87e8205-5e75-40c5-a02c-b548506a3f94",
   "metadata": {},
   "outputs": [
    {
     "data": {
      "text/latex": [
       "Quantum object: dims = [[5, 5, 5], [5, 5, 5]], shape = (125, 125), type = oper, isherm = True $ \\\\ \\left(\\begin{matrix}36.597 & 0.0 & 0.0 & 0.0 & 0.0 & \\cdots & 0.0 & 0.0 & 0.0 & 0.0 & 0.0\\\\0.0 & 43.571 & 0.0 & 0.0 & 0.0 & \\cdots & 0.0 & 0.0 & 0.0 & 0.0 & 0.0\\\\0.0 & 0.0 & 50.483 & 0.0 & 0.0 & \\cdots & 0.0 & 0.0 & 0.0 & 0.0 & 0.0\\\\0.0 & 0.0 & 0.0 & 57.332 & 0.0 & \\cdots & 0.0 & 0.0 & 0.0 & 0.0 & 0.0\\\\0.0 & 0.0 & 0.0 & 0.0 & 64.117 & \\cdots & 0.0 & 0.0 & 0.0 & 0.0 & 0.0\\\\\\vdots & \\vdots & \\vdots & \\vdots & \\vdots & \\ddots & \\vdots & \\vdots & \\vdots & \\vdots & \\vdots\\\\0.0 & 0.0 & 0.0 & 0.0 & 0.0 & \\cdots & 208.441 & 0.0 & 0.0 & 0.0 & 0.0\\\\0.0 & 0.0 & 0.0 & 0.0 & 0.0 & \\cdots & 0.0 & 215.415 & 0.0 & 0.0 & 0.0\\\\0.0 & 0.0 & 0.0 & 0.0 & 0.0 & \\cdots & 0.0 & 0.0 & 222.327 & 0.0 & 0.0\\\\0.0 & 0.0 & 0.0 & 0.0 & 0.0 & \\cdots & 0.0 & 0.0 & 0.0 & 229.175 & 0.0\\\\0.0 & 0.0 & 0.0 & 0.0 & 0.0 & \\cdots & 0.0 & 0.0 & 0.0 & 0.0 & 235.961\\\\\\end{matrix}\\right)$"
      ],
      "text/plain": [
       "Quantum object: dims = [[5, 5, 5], [5, 5, 5]], shape = (125, 125), type = oper, isherm = True\n",
       "Qobj data =\n",
       "[[ 36.5970862 +0.j   0.        +0.j   0.        +0.j ...   0.        +0.j\n",
       "    0.        +0.j   0.        +0.j]\n",
       " [  0.        +0.j  43.57142189+0.j   0.        +0.j ...   0.        +0.j\n",
       "    0.        +0.j   0.        +0.j]\n",
       " [  0.        +0.j   0.        +0.j  50.48292573+0.j ...   0.        +0.j\n",
       "    0.        +0.j   0.        +0.j]\n",
       " ...\n",
       " [  0.        +0.j   0.        +0.j   0.        +0.j ... 222.32680812+0.j\n",
       "    0.        +0.j   0.        +0.j]\n",
       " [  0.        +0.j   0.        +0.j   0.        +0.j ...   0.        +0.j\n",
       "  229.17548011+0.j   0.        +0.j]\n",
       " [  0.        +0.j   0.        +0.j   0.        +0.j ...   0.        +0.j\n",
       "    0.        +0.j 235.96132024+0.j]]"
      ]
     },
     "execution_count": 28,
     "metadata": {},
     "output_type": "execute_result"
    }
   ],
   "source": [
    "ct.H\n"
   ]
  },
  {
   "cell_type": "code",
   "execution_count": 31,
   "id": "5f2e1c88-95a9-4e39-b0b5-47a59704915f",
   "metadata": {},
   "outputs": [
    {
     "data": {
      "text/latex": [
       "Quantum object: dims = [[38], [38]], shape = (38, 38), type = oper, isherm = True $ \\\\ \\left(\\begin{matrix}36.597 & 0.0 & 0.0 & 0.0 & 0.0 & \\cdots & 0.0 & 0.0 & 0.0 & 0.0 & 0.0\\\\0.0 & 43.571 & 0.0 & 0.0 & 0.0 & \\cdots & 0.0 & 0.0 & 0.0 & 0.0 & 0.0\\\\0.0 & 0.0 & 50.483 & 0.0 & 0.0 & \\cdots & 0.0 & 0.0 & 0.0 & 0.0 & 0.0\\\\0.0 & 0.0 & 0.0 & 57.332 & 0.0 & \\cdots & -0.011 & 0.0 & 0.0 & 0.0 & 0.0\\\\0.0 & 0.0 & 0.0 & 0.0 & 64.117 & \\cdots & 0.0 & -0.011 & 0.0 & 0.0 & 0.0\\\\\\vdots & \\vdots & \\vdots & \\vdots & \\vdots & \\ddots & \\vdots & \\vdots & \\vdots & \\vdots & \\vdots\\\\0.0 & 0.0 & 0.0 & -0.011 & 0.0 & \\cdots & 74.013 & 0.0 & 0.0 & 0.0 & -3.711j\\\\0.0 & 0.0 & 0.0 & 0.0 & -0.011 & \\cdots & 0.0 & 80.799 & 0.0 & 0.0 & 0.0\\\\0.0 & 0.0 & 0.0 & 0.0 & 0.0 & \\cdots & 0.0 & 0.0 & 74.044 & 0.0 & 0.0\\\\0.0 & 0.0 & 0.0 & 0.0 & 0.0 & \\cdots & 0.0 & 0.0 & 0.0 & 81.019 & 0.0\\\\0.0 & 0.0 & 0.0 & 0.0 & 0.0 & \\cdots & 3.711j & 0.0 & 0.0 & 0.0 & 87.930\\\\\\end{matrix}\\right)$"
      ],
      "text/plain": [
       "Quantum object: dims = [[38], [38]], shape = (38, 38), type = oper, isherm = True\n",
       "Qobj data =\n",
       "[[36.5970862 +0.j  0.        +0.j  0.        +0.j ...  0.        +0.j\n",
       "   0.        +0.j  0.        +0.j]\n",
       " [ 0.        +0.j 43.57142189+0.j  0.        +0.j ...  0.        +0.j\n",
       "   0.        +0.j  0.        +0.j]\n",
       " [ 0.        +0.j  0.        +0.j 50.48292573+0.j ...  0.        +0.j\n",
       "   0.        +0.j  0.        +0.j]\n",
       " ...\n",
       " [ 0.        +0.j  0.        +0.j  0.        +0.j ... 74.04423532+0.j\n",
       "   0.        +0.j  0.        +0.j]\n",
       " [ 0.        +0.j  0.        +0.j  0.        +0.j ...  0.        +0.j\n",
       "  81.01857101+0.j  0.        +0.j]\n",
       " [ 0.        +0.j  0.        +0.j  0.        +0.j ...  0.        +0.j\n",
       "   0.        +0.j 87.93007485+0.j]]"
      ]
     },
     "execution_count": 31,
     "metadata": {},
     "output_type": "execute_result"
    }
   ],
   "source": [
    "ct.H.extract_states(list(range(38)))"
   ]
  },
  {
   "cell_type": "code",
   "execution_count": 32,
   "id": "153e78c5-a5f5-455e-8bc7-5c1aa9410ca7",
   "metadata": {},
   "outputs": [],
   "source": [
    "Hd = ct.H.transform(ct.H.eigenstates()[1])"
   ]
  },
  {
   "cell_type": "code",
   "execution_count": 34,
   "id": "0f907362-a1c7-4072-b56a-249fbbe1f0e5",
   "metadata": {},
   "outputs": [
    {
     "data": {
      "text/latex": [
       "Quantum object: dims = [[38], [38]], shape = (38, 38), type = oper, isherm = True $ \\\\ \\left(\\begin{matrix}36.468 & 0.0 & 0.0 & 0.0 & 0.0 & \\cdots & 0.0 & 0.0 & 0.0 & 0.0 & 8.786\\times10^{-12}\\\\0.0 & 41.439 & 0.0 & 0.0 & 0.0 & \\cdots & 0.0 & 0.0 & -1.035\\times10^{-12} & 2.873\\times10^{-12} & 0.0\\\\0.0 & 0.0 & 43.408 & -1.230\\times10^{-12} & 0.0 & \\cdots & 0.0 & 0.0 & -1.957\\times10^{-12} & 8.468\\times10^{-12} & 0.0\\\\0.0 & 0.0 & -1.230\\times10^{-12} & 47.535 & 0.0 & \\cdots & 0.0 & 0.0 & 0.0 & 0.0 & 2.963\\times10^{-11}\\\\0.0 & 0.0 & 0.0 & 0.0 & 47.849 & \\cdots & 0.0 & 0.0 & -3.868\\times10^{-12} & 8.511\\times10^{-12} & 0.0\\\\\\vdots & \\vdots & \\vdots & \\vdots & \\vdots & \\ddots & \\vdots & \\vdots & \\vdots & \\vdots & \\vdots\\\\0.0 & 0.0 & 0.0 & 0.0 & 0.0 & \\cdots & 89.853 & 0.0 & 0.0 & 0.0 & 1.732\\times10^{-12}\\\\0.0 & 0.0 & 0.0 & 0.0 & 0.0 & \\cdots & 0.0 & 92.493 & -1.954\\times10^{-12} & 0.0 & -9.286\\times10^{-12}\\\\0.0 & -1.035\\times10^{-12} & -1.957\\times10^{-12} & 0.0 & -3.868\\times10^{-12} & \\cdots & 0.0 & -1.954\\times10^{-12} & 92.714 & 0.0 & 1.253\\times10^{-11}\\\\0.0 & 2.873\\times10^{-12} & 8.468\\times10^{-12} & 0.0 & 8.511\\times10^{-12} & \\cdots & 0.0 & 0.0 & 0.0 & 93.546 & -4.966\\times10^{-11}\\\\8.786\\times10^{-12} & 0.0 & 0.0 & 2.963\\times10^{-11} & 0.0 & \\cdots & 1.732\\times10^{-12} & -9.286\\times10^{-12} & 1.253\\times10^{-11} & -4.966\\times10^{-11} & 94.464\\\\\\end{matrix}\\right)$"
      ],
      "text/plain": [
       "Quantum object: dims = [[38], [38]], shape = (38, 38), type = oper, isherm = True\n",
       "Qobj data =\n",
       "[[ 3.64677009e+01+0.j  0.00000000e+00+0.j  0.00000000e+00+0.j ...\n",
       "   0.00000000e+00+0.j  0.00000000e+00+0.j  8.78563039e-12+0.j]\n",
       " [ 0.00000000e+00+0.j  4.14393095e+01+0.j  0.00000000e+00+0.j ...\n",
       "  -1.03501402e-12+0.j  2.87258477e-12+0.j  0.00000000e+00+0.j]\n",
       " [ 0.00000000e+00+0.j  0.00000000e+00+0.j  4.34075872e+01+0.j ...\n",
       "  -1.95723347e-12+0.j  8.46810642e-12+0.j  0.00000000e+00+0.j]\n",
       " ...\n",
       " [ 0.00000000e+00+0.j -1.03501501e-12+0.j -1.95723674e-12+0.j ...\n",
       "   9.27137365e+01+0.j  0.00000000e+00+0.j  1.25329409e-11+0.j]\n",
       " [ 0.00000000e+00+0.j  2.87258528e-12+0.j  8.46810805e-12+0.j ...\n",
       "   0.00000000e+00+0.j  9.35463037e+01+0.j -4.96591670e-11+0.j]\n",
       " [ 8.78564564e-12+0.j  0.00000000e+00+0.j  0.00000000e+00+0.j ...\n",
       "   1.25329446e-11+0.j -4.96591671e-11+0.j  9.44640273e+01+0.j]]"
      ]
     },
     "execution_count": 34,
     "metadata": {},
     "output_type": "execute_result"
    }
   ],
   "source": [
    "Hd.extract_states(list(range(38)))"
   ]
  },
  {
   "cell_type": "code",
   "execution_count": 35,
   "id": "0b63b14c-e911-42aa-99ee-9612442f5f3f",
   "metadata": {},
   "outputs": [
    {
     "data": {
      "text/latex": [
       "Quantum object: dims = [[5, 5, 5], [5, 5, 5]], shape = (125, 125), type = oper, isherm = True $ \\\\ \\left(\\begin{matrix}36.468 & 0.0 & 0.0 & 0.0 & 0.0 & \\cdots & 0.0 & 0.0 & 0.0 & 0.0 & 0.0\\\\0.0 & 41.439 & 0.0 & 0.0 & 0.0 & \\cdots & -1.812\\times10^{-12}j & -3.299\\times10^{-11}j & 0.0 & 1.345\\times10^{-12}j & 0.0\\\\0.0 & 0.0 & 43.408 & -1.230\\times10^{-12} & 0.0 & \\cdots & -5.662\\times10^{-12}j & 1.539\\times10^{-11}j & 0.0 & -1.168\\times10^{-11}j & 0.0\\\\0.0 & 0.0 & -1.230\\times10^{-12} & 47.535 & 0.0 & \\cdots & 0.0 & 0.0 & 0.0 & 0.0 & 0.0\\\\0.0 & 0.0 & 0.0 & 0.0 & 47.849 & \\cdots & 3.182\\times10^{-11}j & 0.0 & 0.0 & -7.052\\times10^{-12}j & 0.0\\\\\\vdots & \\vdots & \\vdots & \\vdots & \\vdots & \\ddots & \\vdots & \\vdots & \\vdots & \\vdots & \\vdots\\\\0.0 & 1.812\\times10^{-12}j & 5.662\\times10^{-12}j & 0.0 & -3.182\\times10^{-11}j & \\cdots & 214.330 & 0.0 & -3.889\\times10^{-12} & 0.0 & -3.629\\times10^{-12}\\\\0.0 & 3.299\\times10^{-11}j & -1.539\\times10^{-11}j & 0.0 & 0.0 & \\cdots & 0.0 & 218.074 & -1.310\\times10^{-10} & 0.0 & 1.104\\times10^{-10}\\\\0.0 & 0.0 & 0.0 & 0.0 & 0.0 & \\cdots & -3.889\\times10^{-12} & -1.310\\times10^{-10} & 226.209 & -7.560\\times10^{-11} & 0.0\\\\0.0 & -1.345\\times10^{-12}j & 1.168\\times10^{-11}j & 0.0 & 7.052\\times10^{-12}j & \\cdots & 0.0 & 0.0 & -7.560\\times10^{-11} & 235.282 & 3.494\\times10^{-11}\\\\0.0 & 0.0 & 0.0 & 0.0 & 0.0 & \\cdots & -3.629\\times10^{-12} & 1.104\\times10^{-10} & 0.0 & 3.494\\times10^{-11} & 239.092\\\\\\end{matrix}\\right)$"
      ],
      "text/plain": [
       "Quantum object: dims = [[5, 5, 5], [5, 5, 5]], shape = (125, 125), type = oper, isherm = True\n",
       "Qobj data =\n",
       "[[ 3.64677009e+01+0.00000000e+00j  0.00000000e+00+0.00000000e+00j\n",
       "   0.00000000e+00+0.00000000e+00j ...  0.00000000e+00+0.00000000e+00j\n",
       "   0.00000000e+00+0.00000000e+00j  0.00000000e+00+0.00000000e+00j]\n",
       " [ 0.00000000e+00+0.00000000e+00j  4.14393095e+01+0.00000000e+00j\n",
       "   0.00000000e+00+0.00000000e+00j ...  0.00000000e+00+0.00000000e+00j\n",
       "   0.00000000e+00+1.34450108e-12j  0.00000000e+00+0.00000000e+00j]\n",
       " [ 0.00000000e+00+0.00000000e+00j  0.00000000e+00+0.00000000e+00j\n",
       "   4.34075872e+01+0.00000000e+00j ...  0.00000000e+00+0.00000000e+00j\n",
       "   0.00000000e+00-1.16797496e-11j  0.00000000e+00+0.00000000e+00j]\n",
       " ...\n",
       " [ 0.00000000e+00+0.00000000e+00j  0.00000000e+00+0.00000000e+00j\n",
       "   0.00000000e+00+0.00000000e+00j ...  2.26208578e+02+0.00000000e+00j\n",
       "  -7.55981277e-11+0.00000000e+00j  0.00000000e+00+0.00000000e+00j]\n",
       " [ 0.00000000e+00+0.00000000e+00j  0.00000000e+00-1.34450108e-12j\n",
       "   0.00000000e+00+1.16797496e-11j ... -7.55981065e-11+0.00000000e+00j\n",
       "   2.35282091e+02+0.00000000e+00j  3.49402510e-11+0.00000000e+00j]\n",
       " [ 0.00000000e+00+0.00000000e+00j  0.00000000e+00+0.00000000e+00j\n",
       "   0.00000000e+00+0.00000000e+00j ...  0.00000000e+00+0.00000000e+00j\n",
       "   3.49402713e-11+0.00000000e+00j  2.39092265e+02+0.00000000e+00j]]"
      ]
     },
     "execution_count": 35,
     "metadata": {},
     "output_type": "execute_result"
    }
   ],
   "source": [
    "Hd\n"
   ]
  },
  {
   "cell_type": "code",
   "execution_count": 1,
   "id": "2d980c62-be8a-41e4-bff1-120ae6ec9547",
   "metadata": {},
   "outputs": [
    {
     "ename": "NameError",
     "evalue": "name 'qt' is not defined",
     "output_type": "error",
     "traceback": [
      "\u001b[0;31m---------------------------------------------------------------------------\u001b[0m",
      "\u001b[0;31mNameError\u001b[0m                                 Traceback (most recent call last)",
      "Cell \u001b[0;32mIn[1], line 1\u001b[0m\n\u001b[0;32m----> 1\u001b[0m \u001b[43mqt\u001b[49m\u001b[38;5;241m.\u001b[39msimgaz()\n",
      "\u001b[0;31mNameError\u001b[0m: name 'qt' is not defined"
     ]
    }
   ],
   "source": [
    "qt.simgaz()"
   ]
  },
  {
   "cell_type": "code",
   "execution_count": 2,
   "id": "200c1fef-26b9-4aa7-bba6-dc11a2295660",
   "metadata": {},
   "outputs": [],
   "source": [
    "import qutip as qt"
   ]
  },
  {
   "cell_type": "code",
   "execution_count": 3,
   "id": "d286bab5-96b9-4c72-8333-dd845292dcef",
   "metadata": {},
   "outputs": [
    {
     "data": {
      "text/latex": [
       "Quantum object: dims = [[2], [2]], shape = (2, 2), type = oper, isherm = True $ \\\\ \\left(\\begin{matrix}1.0 & 0.0\\\\0.0 & -1.0\\\\\\end{matrix}\\right)$"
      ],
      "text/plain": [
       "Quantum object: dims = [[2], [2]], shape = (2, 2), type = oper, isherm = True\n",
       "Qobj data =\n",
       "[[ 1.  0.]\n",
       " [ 0. -1.]]"
      ]
     },
     "execution_count": 3,
     "metadata": {},
     "output_type": "execute_result"
    }
   ],
   "source": [
    "qt.sigmaz()"
   ]
  },
  {
   "cell_type": "code",
   "execution_count": 5,
   "id": "a81e093e-a9db-4be3-9383-97e1d1541c02",
   "metadata": {},
   "outputs": [
    {
     "data": {
      "text/latex": [
       "Quantum object: dims = [[2, 2], [2, 2]], shape = (4, 4), type = oper, isherm = True $ \\\\ \\left(\\begin{matrix}1.0 & 0.0 & 0.0 & 0.0\\\\0.0 & -1.0 & 0.0 & 0.0\\\\0.0 & 0.0 & -1.0 & 0.0\\\\0.0 & 0.0 & 0.0 & 1.0\\\\\\end{matrix}\\right)$"
      ],
      "text/plain": [
       "Quantum object: dims = [[2, 2], [2, 2]], shape = (4, 4), type = oper, isherm = True\n",
       "Qobj data =\n",
       "[[ 1.  0.  0.  0.]\n",
       " [ 0. -1.  0.  0.]\n",
       " [ 0.  0. -1.  0.]\n",
       " [ 0.  0.  0.  1.]]"
      ]
     },
     "execution_count": 5,
     "metadata": {},
     "output_type": "execute_result"
    }
   ],
   "source": [
    "qt.tensor(qt.sigmaz(), qt.sigmaz())"
   ]
  },
  {
   "cell_type": "code",
   "execution_count": 7,
   "id": "796c7790-7a44-41a2-a428-312993c060b3",
   "metadata": {},
   "outputs": [
    {
     "data": {
      "text/latex": [
       "Quantum object: dims = [[2, 2], [2, 2]], shape = (4, 4), type = oper, isherm = False $ \\\\ \\left(\\begin{matrix}(0.540-0.841j) & 0.0 & 0.0 & 0.0\\\\0.0 & (0.540+0.841j) & 0.0 & 0.0\\\\0.0 & 0.0 & (0.540+0.841j) & 0.0\\\\0.0 & 0.0 & 0.0 & (0.540-0.841j)\\\\\\end{matrix}\\right)$"
      ],
      "text/plain": [
       "Quantum object: dims = [[2, 2], [2, 2]], shape = (4, 4), type = oper, isherm = False\n",
       "Qobj data =\n",
       "[[0.54030231-0.84147098j 0.        +0.j         0.        +0.j\n",
       "  0.        +0.j        ]\n",
       " [0.        +0.j         0.54030231+0.84147098j 0.        +0.j\n",
       "  0.        +0.j        ]\n",
       " [0.        +0.j         0.        +0.j         0.54030231+0.84147098j\n",
       "  0.        +0.j        ]\n",
       " [0.        +0.j         0.        +0.j         0.        +0.j\n",
       "  0.54030231-0.84147098j]]"
      ]
     },
     "execution_count": 7,
     "metadata": {},
     "output_type": "execute_result"
    }
   ],
   "source": [
    "import numpy as np\n",
    "(-1j*qt.tensor(qt.sigmaz(), qt.sigmaz())).expm()"
   ]
  },
  {
   "cell_type": "code",
   "execution_count": 10,
   "id": "43d84f30-42f6-444d-960d-87df9ddcdf96",
   "metadata": {},
   "outputs": [
    {
     "data": {
      "text/latex": [
       "Quantum object: dims = [[2, 2], [2, 2]], shape = (4, 4), type = oper, isherm = False $ \\\\ \\left(\\begin{matrix}(1.000-9.261\\times10^{-08}j) & 0.0 & 0.0 & 0.0\\\\0.0 & (-0.416+0.909j) & 0.0 & 0.0\\\\0.0 & 0.0 & (-0.416+0.909j) & 0.0\\\\0.0 & 0.0 & 0.0 & (1.000-9.261\\times10^{-08}j)\\\\\\end{matrix}\\right)$"
      ],
      "text/plain": [
       "Quantum object: dims = [[2, 2], [2, 2]], shape = (4, 4), type = oper, isherm = False\n",
       "Qobj data =\n",
       "[[ 1.        -9.26129901e-08j  0.        +0.00000000e+00j\n",
       "   0.        +0.00000000e+00j  0.        +0.00000000e+00j]\n",
       " [ 0.        +0.00000000e+00j -0.41614675+9.09297465e-01j\n",
       "   0.        +0.00000000e+00j  0.        +0.00000000e+00j]\n",
       " [ 0.        +0.00000000e+00j  0.        +0.00000000e+00j\n",
       "  -0.41614675+9.09297465e-01j  0.        +0.00000000e+00j]\n",
       " [ 0.        +0.00000000e+00j  0.        +0.00000000e+00j\n",
       "   0.        +0.00000000e+00j  1.        -9.26129901e-08j]]"
      ]
     },
     "execution_count": 10,
     "metadata": {},
     "output_type": "execute_result"
    }
   ],
   "source": [
    "(-1j*qt.tensor(qt.sigmaz(), qt.sigmaz())).expm()*np.exp(-1j*np.angle(0.54 - 0.841j))"
   ]
  },
  {
   "cell_type": "code",
   "execution_count": null,
   "id": "26e44a79-24a7-4a35-850e-b40de3a47d90",
   "metadata": {},
   "outputs": [],
   "source": []
  }
 ],
 "metadata": {
  "kernelspec": {
   "display_name": "Python 3 (ipykernel)",
   "language": "python",
   "name": "python3"
  },
  "language_info": {
   "codemirror_mode": {
    "name": "ipython",
    "version": 3
   },
   "file_extension": ".py",
   "mimetype": "text/x-python",
   "name": "python",
   "nbconvert_exporter": "python",
   "pygments_lexer": "ipython3",
   "version": "3.10.6"
  }
 },
 "nbformat": 4,
 "nbformat_minor": 5
}
