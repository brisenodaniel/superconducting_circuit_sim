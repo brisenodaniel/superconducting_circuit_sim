import matplotlib.pyplot as plt
import numpy as np
import qutip as qt
import os
import yaml


 #build pulse fidelity dict
fidelities: dict[float, float] = {}
for file in os.listdir('../output/sim_results'):
    if file.endswith('yaml'):
        try:
            with open(f'../output/sim_results/{file}', 'r') as yamlfile:
                gate_info = yaml.safe_load(yamlfile)
                for gate_name, gate_stats in gate_info.items():
                    tg = gate_stats['pulse_config']['tg']
                    fidelity = gate_stats['fidelity']
                    fidelities[tg]=fidelity
        except Exception as exc:
            print(exc)
       


fidelity_lst = sorted(fidelities.items())
tgs, fs = zip(*fidelity_lst)
err = 1 - np.array(fs)
plt.plot(tgs, err)



