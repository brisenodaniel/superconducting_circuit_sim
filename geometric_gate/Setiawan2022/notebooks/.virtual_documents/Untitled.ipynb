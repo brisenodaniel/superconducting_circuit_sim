


import qutip as qt
import numpy as np
import matplotlib.pyplot as plt
import module_path
import sys
#add modules to path
modules: str = module_path.add_module_path()
sys.path.append(modules)
import gate
import simulation_setup as setup
import composite_systems as systems
import state_labeling as lbl





configs = setup.setup_sim_from_configs()


len(configs)
configs[1].keys()


pulses_lbls: list[str] = ['CZ-90ns', 'CZ-100ns', 'CZ-130ns',
                'CZ-200ns', 'CZ-300ns', 'CZ-400ns', 'CZ-900ns']
pulses: dict[str, setup.PulseProfile] = {pulse_lbl: configs[1][pulse_lbl]
                                         for pulse_lbl in pulse_lbls}
gates: dict[str, gate.GateProfile] = {pulse_lbl: gate.profile_gate(pulse_lbl, pulse)
                                      for pulse_lbl, pulse in pulses.items()}
def get_coords(gate: gate.GateProfile, init_state: str) -> np.ndarray[complex]:
    comp_states = ['ggg', 'geg', 'egg', 'eeg']
    gate_ct = gate.circuit
    state_vecs, state_coords = lbl.get_dressed_comp_states(gate_ct, 2)
    traj = gate.trajectories[init_state]
    coords: np.ndarray[complex] = np.empty(shape=[len(traj),4], dtype=complex)
    for i, rho in enumerate(traj):
        if rho.type != 'oper':
            rho = rho * rho.dag()
        for j, state in comp_states:
            n, m, k = gate.str_to_tuple(state)
            c_state = state_vecs[n,m,k]
            coord = (c_state.dag() * rho * c_state).tr()
            coords[i,j] = coord
    return coords

init_states = ['ggg', 'geg', 'egg', 'eeg']
trajectories = { gate_lbl: {init_state : get_coords(gate, init_state) 
                            for int_state in init_states}
                    for gate_lbl, gate in gates}


plots: dict[str,tuple[plt.Figure, np.ndarray[plt.Axis]]] = {}

for gate_lbl, traj in trajectories.items():
    fig, axs = plt.subplots(1,4)
    for i, state_lbl in enumerate(init_states):
        
