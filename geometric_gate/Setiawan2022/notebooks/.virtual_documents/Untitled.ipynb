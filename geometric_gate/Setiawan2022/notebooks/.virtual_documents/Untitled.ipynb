import qutip as qt
import numpy as np
import matplotlib.pyplot as plt
import module_path
import sys
#add modules to path
modules: str = module_path.add_module_path()
sys.path.append(modules)
import gate
import file_io
import simulation_setup as setup
import pulse
from pulse import Pulse
import composite_systems as systems
import state_labeling as lbl
from random import random





rng = np.random.default_rng()
global_phase = random()*2*np.pi
phi_00 = 0
phi_11 = random()*2*np.pi + phi_00
phi_22 = random()*2*np.pi + phi_00
phi_33 = np.pi + phi_00 + phi_11 + phi_22
test_diag = [np.exp(phi_00*1j), np.exp(phi_11*1j), np.exp(phi_22*1j), np.exp(1j*phi_33)]
U_test = qt.qdiags(test_diag, dims=[[2,2],[2,2]], offsets=0) * np.exp(1j*global_phase)
display(U_test)
U = gate._trivial_z_qs(U_test)
display(U)



[phi_00, phi_11, phi_22, phi_33]


zz = U_test[3,3]
zz *(U_test[0,0].conjugate()/abs(U_test[0,0])) * U_test[1,1].conjugate() * U_test[2,2].conjugate()


np.exp(1j*(phi_33 - (phi_00 + phi_11 + phi_22)))


U = U_test * (U_test[0,0].conjugate()/abs(U_test[0,0]))
triv_z_diag = [U[i,i].conjugate()/abs(U[i,i]) for i in range(3)]
triv_z_diag.append(U[1,1].conjugate()*U[2,2].conjugate()/(abs(U[1,1])*abs(U[2,2])))
triv_z = (U_test[0,0].conjugate()/abs(U_test[0,0])) * qt.qdiags(triv_z_diag, offsets=0, dims=[[2,2],[2,2]])
triv_z * U_test


ang = np.angle
ang(U[3,3]) - ang(U[2,2]) - ang(U[1,1])


np.exp(1j*3.357112111270943)


ang(U_test[3,3])


sum([ang(U_test[i,i]) for i in range(3)]) + np.pi


U_test


ang(U[0,0])


configs = setup.setup_sim_from_configs(pulse_lbls=['CZ-400ns'])
pulse_profile = configs[1]['CZ-400ns']



pulse_params = pulse_profile.pulse_config.pulse_params
ct = pulse_profile.circuit

static_attr = pulse.StaticPulseAttr(pulse_params, ct)

en_ee0 = static_attr.eigenen('ee0')
en_ge1 = static_attr.eigenen('ge1')
en_gf0 = static_attr.eigenen('gf0')

sim_trans_freq = {'w_ee0_ge1': (en_ge1 - en_ee0)/(2*np.pi),
                  'w_gf0_ge1': (en_ge1 - en_gf0)/(2*np.pi)}
paper_trans_freq = {'w_ee0_ge1': -0.84,
                    'w_gf0_ge1': -2.43}

display(sim_trans_freq)
display(paper_trans_freq)


pulse = Pulse(pulse_params, ct)
tg = pulse_profile.pulse_config.pulse_params['tg']
dt = pulse_profile.pulse_config.pulse_params['dt']
t_ramp = pulse_profile.pulse_config.pulse_params['t_ramp']
tlist = np.arange(0, tg + 2 * t_ramp, dt)
tlist = tlist[::100]
gs = pulse._Pulse__g_ac(tlist, np.pi)


deltas = pulse._Pulse__w_mod(gs)
n: qt.Qobj = ct.get_raised_op('C', ['a'],
                     lambda a: a.dag()*a)
pulse_arr = pulse_profile.pulse
pulse_arr = pulse_arr[::100]

detuning_arr = {'A': np.empty(len(pulse_arr)),
               'B': np.empty(len(pulse_arr))}
for i, p in enumerate(pulse_arr):
    H_eff = ct.H + p*n
    energies = H_eff.eigenenergies()
    energies = energies-energies[0]
    w_A = pulse.static_attr.eigenen('ge1') - pulse.static_attr.eigenen('ee0')
    w_B = pulse.static_attr.eigenen('ge1') - pulse.static_attr.eigenen('gf0')
    detuning_arr['A'][i] = w_A - deltas['A'][i]
    detuning_arr['B'][i] = w_B - deltas['B'][i]


   

fig_det, ax_det = plt.subplots()
ax_det.plot(tlist, detuning_arr['A'], label=r'err $\omega_A$')
ax_det.plot(tlist, detuning_arr['B'], label=r'err $\omega_B$')
ax_det.set_ylabel(r'$\tilde \omega_{mod, \; j} - \epsilon_j(t)$, (GHz)')
ax_det.set_xlabel(r'time (ns)')
ax_det.set_title('Frequency Chirp Error')
ax_det.legend()
plt.show()
    
    


H = ct.H

eigenens = H.eigenenergies()
eigenens -= eigenens[0]

e00, e11, e01, e10 = [
    eigenens[pulse.static_attr.state_idx(lbl)]
    for lbl in ('ggg', 'eeg', 'geg', 'egg')
]

zz = e11 + e00 - e01 -e10


zz*1e6/(2*np.pi)


ee0, ge1, gf0, gg1, eg0, ge0 = [
    eigenens[pulse.static_attr.state_idx(lbl)]
    for lbl in ('ee0','ge1','gf0','gg1', 'eg0','ge0')]
(abs(gf0-ge1) - abs(eg0-gg1))/(2*np.pi)

2.43 - 0.71


A = ct.subsystems['A']
B = ct.subsystems['B']
eigenensA = A.H.eigenenergies()
eigenensB = B.H.eigenenergies()
w_A = eigenensA[1] - eigenensA[0]
w_B = eigenensB[1] - eigenensB[0]


display(w_A/(2*np.pi), w_B/(2*np.pi))


a = ct.get_raised_op('C', 'a')
n = a.dag()*a
n = n.transform(ct.H.eigenstates()[1])
for k, l in [('eg0','gg1'), ('ge0', 'gg1')]:
    kidx = pulse.static_attr.state_idx(k)
    lidx = pulse.static_attr.state_idx(l)
    print('k:', k, 'l:', l, '<k|a.dag()a|l>', n[kidx,lidx])
    
    


for state in ('ggg', 'egg','geg','eeg','gg1','gf0', 'ge1'):
    print(pulse.static_attr.state_idx(state))


ct.H
qt.hinton(ct.H)


ct.H



ct.H.extract_states(list(range(38)))


Hd = ct.H.transform(ct.H.eigenstates()[1])


Hd.extract_states(list(range(38)))


Hd



qt.simgaz()


import qutip as qt


qt.sigmaz()


qt.tensor(qt.sigmaz(), qt.sigmaz())


import numpy as np
(-1j*qt.tensor(qt.sigmaz(), qt.sigmaz())).expm()


(-1j*qt.tensor(qt.sigmaz(), qt.sigmaz())).expm()*np.exp(-1j*np.angle(0.54 - 0.841j))



