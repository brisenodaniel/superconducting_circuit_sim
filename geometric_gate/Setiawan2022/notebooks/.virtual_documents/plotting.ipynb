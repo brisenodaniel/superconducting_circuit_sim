


import numpy as np
import qutip as qt
import matplotlib.pyplot as plt
from pathlib import Path
import os
import yaml
os.getcwd()





project_root = '../'
output_dir = os.path.join(project_root, 'output')
pulse_dir = os.path.join(output_dir, 'pulses')
gate_dir = os.path.join(output_dir, 'sim_results')

with open(os.path.join(pulse_dir, 'cache_desc.yaml'), 'r') as yamlHandle:
    pulse_cache_desc = yaml.safe_load(yamlHandle)
cz_config = pulse_cache_desc['CZ']
cz_pulse = np.load(f'{pulse_dir}/CZ-140ns_tg-1.4000000000000001ns_tramp.npy', allow_pickle=True)
cz_delta_wmod = np.load(f'{pulse_dir}/CZ-_Pulse__delta_wmod.npy', allow_pickle=True)
# cz_delta_wmod_a = np.array([tstep['A'] for tstep in cz_delta_wmod])
# cz_delta_mmod_b = np.array([tstep['B'] for tstep in cz_delta_wmod])
cz_g_ac = np.load(f'{pulse_dir}/CZ-_Pulse__g_ac.npy', allow_pickle=True)[()]
cz_omega_A = np.load(f'{pulse_dir}/CZ-140ns_tg-1.4000000000000001ns_tramp-_Pulse__omega_A.npy',
                     allow_pickle=True)
cz_omega_B = np.load(f'{pulse_dir}/CZ-140ns_tg-1.4000000000000001ns_tramp-_Pulse__omega_B.npy',
                     allow_pickle=True)




np.load(f'/home/dominic/Documents/research/superconducting_circuit_sim/geometric_gate/Setiawan2022/output/pulses/CZ-143ns_tg-1.43ns_tramp.npy', allow_pickle=True)



tg = 140
t_ramp =1.4000000000000001
dt = 0.001






tlist_omegas = np.arange(0, tg + 2* t_ramp, dt)
plt.plot(tlist_omegas, cz_omega_A, label='A')
plt.plot(tlist_omegas, cz_omega_B, label='B')
plt.legend()
plt.show()


plt.plot(tlist_omegas[1:], cz_pulse)



