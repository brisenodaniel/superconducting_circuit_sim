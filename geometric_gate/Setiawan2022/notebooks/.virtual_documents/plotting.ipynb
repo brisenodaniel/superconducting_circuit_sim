


import numpy as np
import qutip as qt
import matplotlib.pyplot as plt
from pathlib import Path
import os
import yaml
os.getcwd()





project_root = '../'
output_dir = os.path.join(project_root, 'output')
pulse_dir = os.path.join(output_dir, 'pulses')
gate_dir = os.path.join(output_dir, 'sim_results')

with open(os.path.join(pulse_dir, 'cache_desc.yaml'), 'r') as yamlHandle:
    pulse_cache_desc = yaml.safe_load(yamlHandle)
cz_config = pulse_cache_desc['CZ']
cz_pulse = np.load(f'{pulse_dir}/CZ.npy', allow_pickle=True)
cz_delta_wmod = np.load(f'{pulse_dir}/CZ-_Pulse__delta_wmod.npy', allow_pickle=True)
cz_delta_wmod_a = np.array([tstep['A'] for tstep in cz_delta_wmod])
cz_delta_mmod_b = np.array([tstep['B'] for tstep in cz_delta_wmod])
cz_g_ac = np.load(f'{pulse_dir}/CZ-_Pulse__g_ac.npy', allow_pickle=True)
cz_omega_A = np.load(f'{pulse_dir}/CZ-_Pulse__omega_A.npy', allow_pickle=True)
cz_omega_B = np.load(f'{pulse_dir}/CZ-_Pulse__omega_B.npy', allow_pickle=True)

# append ramp to omega_A, omega_B
t_ramp = cz_config['t_ramp']
tg = cz_config['tg']
dt = cz_config['dt']
omega_0 = cz_config['omega_0'] 
ramp_len = len(np.arange(0, t_ramp, dt))
ramp_up = cz_pulse[:ramp_len]/omega_0
ramp_down = cz_pulse[-ramp_len:]/omega_0
a_ramp = np.repeat(0, ramp_len)
cz_omega_A = np.concatenate((a_ramp, cz_omega_A, a_ramp))
cz_omega_B = np.concatenate((ramp_up, cz_omega_B, ramp_down))






tlist_omegas = np.arange(0, tg + 2* t_ramp, dt)
plt.plot(tlist_omegas, cz_omega_A, label='A')
plt.plot(tlist_omegas, cz_omega_B, label='B')
plt.legend()
plt.show()


plt.plot(tlist_omegas, cz_pulse)



