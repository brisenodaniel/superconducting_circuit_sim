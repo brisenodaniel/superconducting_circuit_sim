{
 "cells": [
  {
   "cell_type": "markdown",
   "metadata": {},
   "source": [
    "# Subsystem SCQubits Check #\n",
    "\n",
    "The following file compares the eigenenergies of each static subsystem hamiltonian against the SCQubits implementations of the same circuits"
   ]
  },
  {
   "cell_type": "markdown",
   "metadata": {},
   "source": [
    "## Filepath and Dependency Setup"
   ]
  },
  {
   "cell_type": "code",
   "execution_count": 1,
   "metadata": {
    "tags": []
   },
   "outputs": [],
   "source": [
    "import sys\n",
    "sys.path.append('../src')\n",
    "import matplotlib.pyplot as plt\n",
    "import qutip as qt\n",
    "import scqubits as scq\n",
    "import numpy as np\n",
    "import static_system \n",
    "from state_labeling import get_dressed_comp_states\n",
    "import yaml\n",
    "from subsystems import Subsystem\n",
    "from composite_systems import CompositeSystem\n",
    "from typing import Union"
   ]
  },
  {
   "cell_type": "markdown",
   "metadata": {},
   "source": [
    "## Custom Implementation ##"
   ]
  },
  {
   "cell_type": "code",
   "execution_count": 2,
   "metadata": {},
   "outputs": [
    {
     "ename": "KeyError",
     "evalue": "'A'",
     "output_type": "error",
     "traceback": [
      "\u001b[0;31m---------------------------------------------------------------------------\u001b[0m",
      "\u001b[0;31mKeyError\u001b[0m                                  Traceback (most recent call last)",
      "Cell \u001b[0;32mIn[2], line 11\u001b[0m\n\u001b[1;32m      8\u001b[0m         \u001b[38;5;28mprint\u001b[39m(exc)\n\u001b[1;32m     10\u001b[0m \u001b[38;5;66;03m#build systems\u001b[39;00m\n\u001b[0;32m---> 11\u001b[0m sys \u001b[38;5;241m=\u001b[39m \u001b[43mstatic_system\u001b[49m\u001b[38;5;241;43m.\u001b[39;49m\u001b[43mbuild_bare_system\u001b[49m\u001b[43m(\u001b[49m\u001b[43mct_params\u001b[49m\u001b[43m,\u001b[49m\u001b[43m \u001b[49m\u001b[43mstable_nlev\u001b[49m\u001b[38;5;241;43m=\u001b[39;49m\u001b[38;5;241;43m6\u001b[39;49m\u001b[43m)\u001b[49m\n\u001b[1;32m     13\u001b[0m \u001b[38;5;66;03m#extract individual circuit elements\u001b[39;00m\n\u001b[1;32m     14\u001b[0m flux_A:Subsystem \u001b[38;5;241m=\u001b[39m sys\u001b[38;5;241m.\u001b[39msubsystems[\u001b[38;5;124m'\u001b[39m\u001b[38;5;124mA\u001b[39m\u001b[38;5;124m'\u001b[39m]\n",
      "File \u001b[0;32m~/Documents/research/superconducting_circuit_sim/geometric_gate/Setiawan2022/notebooks/../src/static_system.py:99\u001b[0m, in \u001b[0;36mbuild_bare_system\u001b[0;34m(ct_params, stable_nlev, trunc, min_nlev, stabilize, nlev, flux_param_lbls, transmon_param_lbls)\u001b[0m\n\u001b[1;32m     96\u001b[0m flux_constr: Callable[\u001b[38;5;124m\"\u001b[39m\u001b[38;5;124m...\u001b[39m\u001b[38;5;124m\"\u001b[39m, Subsystem] \u001b[38;5;241m=\u001b[39m subsystems\u001b[38;5;241m.\u001b[39mbuild_fluxonium_operators\n\u001b[1;32m     97\u001b[0m transmon_constr: Callable[\u001b[38;5;124m\"\u001b[39m\u001b[38;5;124m...\u001b[39m\u001b[38;5;124m\"\u001b[39m, Subsystem] \u001b[38;5;241m=\u001b[39m subsystems\u001b[38;5;241m.\u001b[39mbuild_transmon_operators\n\u001b[0;32m---> 99\u001b[0m flux_A_params: \u001b[38;5;28mdict\u001b[39m[\u001b[38;5;28mstr\u001b[39m, \u001b[38;5;28mfloat\u001b[39m] \u001b[38;5;241m=\u001b[39m {\n\u001b[1;32m    100\u001b[0m     lbl: ct_params[\u001b[38;5;124m\"\u001b[39m\u001b[38;5;124mA\u001b[39m\u001b[38;5;124m\"\u001b[39m][lbl] \u001b[38;5;28;01mfor\u001b[39;00m lbl \u001b[38;5;129;01min\u001b[39;00m flux_param_lbls\n\u001b[1;32m    101\u001b[0m }\n\u001b[1;32m    102\u001b[0m flux_B_params: \u001b[38;5;28mdict\u001b[39m[\u001b[38;5;28mstr\u001b[39m, \u001b[38;5;28mfloat\u001b[39m] \u001b[38;5;241m=\u001b[39m {\n\u001b[1;32m    103\u001b[0m     lbl: ct_params[\u001b[38;5;124m\"\u001b[39m\u001b[38;5;124mB\u001b[39m\u001b[38;5;124m\"\u001b[39m][lbl] \u001b[38;5;28;01mfor\u001b[39;00m lbl \u001b[38;5;129;01min\u001b[39;00m flux_param_lbls\n\u001b[1;32m    104\u001b[0m }\n\u001b[1;32m    105\u001b[0m transmon_params: \u001b[38;5;28mdict\u001b[39m[\u001b[38;5;28mstr\u001b[39m, \u001b[38;5;28mfloat\u001b[39m] \u001b[38;5;241m=\u001b[39m {\n\u001b[1;32m    106\u001b[0m     lbl: ct_params[\u001b[38;5;124m\"\u001b[39m\u001b[38;5;124mC\u001b[39m\u001b[38;5;124m\"\u001b[39m][lbl] \u001b[38;5;28;01mfor\u001b[39;00m lbl \u001b[38;5;129;01min\u001b[39;00m transmon_param_lbls\n\u001b[1;32m    107\u001b[0m }\n",
      "File \u001b[0;32m~/Documents/research/superconducting_circuit_sim/geometric_gate/Setiawan2022/notebooks/../src/static_system.py:100\u001b[0m, in \u001b[0;36m<dictcomp>\u001b[0;34m(.0)\u001b[0m\n\u001b[1;32m     96\u001b[0m flux_constr: Callable[\u001b[38;5;124m\"\u001b[39m\u001b[38;5;124m...\u001b[39m\u001b[38;5;124m\"\u001b[39m, Subsystem] \u001b[38;5;241m=\u001b[39m subsystems\u001b[38;5;241m.\u001b[39mbuild_fluxonium_operators\n\u001b[1;32m     97\u001b[0m transmon_constr: Callable[\u001b[38;5;124m\"\u001b[39m\u001b[38;5;124m...\u001b[39m\u001b[38;5;124m\"\u001b[39m, Subsystem] \u001b[38;5;241m=\u001b[39m subsystems\u001b[38;5;241m.\u001b[39mbuild_transmon_operators\n\u001b[1;32m     99\u001b[0m flux_A_params: \u001b[38;5;28mdict\u001b[39m[\u001b[38;5;28mstr\u001b[39m, \u001b[38;5;28mfloat\u001b[39m] \u001b[38;5;241m=\u001b[39m {\n\u001b[0;32m--> 100\u001b[0m     lbl: \u001b[43mct_params\u001b[49m\u001b[43m[\u001b[49m\u001b[38;5;124;43m\"\u001b[39;49m\u001b[38;5;124;43mA\u001b[39;49m\u001b[38;5;124;43m\"\u001b[39;49m\u001b[43m]\u001b[49m[lbl] \u001b[38;5;28;01mfor\u001b[39;00m lbl \u001b[38;5;129;01min\u001b[39;00m flux_param_lbls\n\u001b[1;32m    101\u001b[0m }\n\u001b[1;32m    102\u001b[0m flux_B_params: \u001b[38;5;28mdict\u001b[39m[\u001b[38;5;28mstr\u001b[39m, \u001b[38;5;28mfloat\u001b[39m] \u001b[38;5;241m=\u001b[39m {\n\u001b[1;32m    103\u001b[0m     lbl: ct_params[\u001b[38;5;124m\"\u001b[39m\u001b[38;5;124mB\u001b[39m\u001b[38;5;124m\"\u001b[39m][lbl] \u001b[38;5;28;01mfor\u001b[39;00m lbl \u001b[38;5;129;01min\u001b[39;00m flux_param_lbls\n\u001b[1;32m    104\u001b[0m }\n\u001b[1;32m    105\u001b[0m transmon_params: \u001b[38;5;28mdict\u001b[39m[\u001b[38;5;28mstr\u001b[39m, \u001b[38;5;28mfloat\u001b[39m] \u001b[38;5;241m=\u001b[39m {\n\u001b[1;32m    106\u001b[0m     lbl: ct_params[\u001b[38;5;124m\"\u001b[39m\u001b[38;5;124mC\u001b[39m\u001b[38;5;124m\"\u001b[39m][lbl] \u001b[38;5;28;01mfor\u001b[39;00m lbl \u001b[38;5;129;01min\u001b[39;00m transmon_param_lbls\n\u001b[1;32m    107\u001b[0m }\n",
      "\u001b[0;31mKeyError\u001b[0m: 'A'"
     ]
    }
   ],
   "source": [
    "# extract yaml params\n",
    "yaml_path = '../config/circuit_parameters.yaml'\n",
    "\n",
    "with open(yaml_path,'r') as stream:\n",
    "    try:\n",
    "        ct_params:dict[str,dict[str,float]] = yaml.safe_load(stream) \n",
    "    except yaml.YAMLError as exc:\n",
    "        print(exc)\n",
    "\n",
    "#build systems\n",
    "sys = static_system.build_bare_system(ct_params, stable_nlev=6)\n",
    "\n",
    "#extract individual circuit elements\n",
    "flux_A:Subsystem = sys.subsystems['A']\n",
    "flux_B:Subsystem = sys.subsystems['B']\n",
    "transmon:Subsystem = sys.subsystems['C']\n",
    "\n",
    "#extract eigenvalues\n",
    "flux_A_energies = flux_A.H.eigenenergies()\n",
    "flux_B_energies = flux_B.H.eigenenergies()\n",
    "transmon_energies= transmon.H.eigenenergies()"
   ]
  },
  {
   "attachments": {},
   "cell_type": "markdown",
   "metadata": {},
   "source": [
    "## SC Qubits Implementation"
   ]
  },
  {
   "cell_type": "code",
   "execution_count": null,
   "metadata": {},
   "outputs": [],
   "source": [
    "# extract parameters\n",
    "transmon_params = ct_params['C']\n",
    "flux_A_params = ct_params['A']\n",
    "flux_B_params = ct_params['B']\n",
    "\n",
    "# convert to scq parameters\n",
    "def custom_to_scq_params(my_params:dict[str,float],\n",
    "                         circuit:str)->dict[str,float]:\n",
    "    assert circuit in ['fluxonium','transmon'],'wrong circuit param'\n",
    "    if circuit=='fluxonium':\n",
    "        scq_params:dict[str,float] = {\n",
    "            'EC': my_params['E_C']*2*np.pi, \n",
    "            'EJ': my_params['E_J']*2*np.pi,\n",
    "            'EL': my_params['E_L']*2*np.pi,\n",
    "            'flux': my_params['phi_ext'],\n",
    "            'cutoff':100\n",
    "        }\n",
    "    else:\n",
    "        w:float = my_params['w']\n",
    "        U:float = my_params['U']\n",
    "        scq_params:dict[str,float] = {\n",
    "            'EJ': (w+2*U)**2/(16*U),\n",
    "            'EC': 2*U,\n",
    "            'ng': 0,\n",
    "            'ncut':3600\n",
    "        }\n",
    "    return scq_params\n",
    "\n",
    "flux_A_scq_params = custom_to_scq_params(flux_A_params, 'fluxonium')\n",
    "flux_B_scq_params = custom_to_scq_params(flux_B_params, 'fluxonium')\n",
    "transmon_scq_params = custom_to_scq_params(transmon_params, 'transmon')\n",
    "\n",
    "# build circuits\n",
    "\n",
    "flux_A_scq:scq.Fluxonium = scq.Fluxonium(**flux_A_scq_params)\n",
    "flux_B_scq:scq.Fluxonium = scq.Fluxonium(**flux_B_scq_params)\n",
    "transmon_scq:scq.Transmon = scq.Transmon(**transmon_scq_params)\n",
    "\n",
    "# get eigenvalues\n",
    "flux_A_scq_energies = flux_A_scq.eigenvals()\n",
    "flux_B_scq_energies = flux_B_scq.eigenvals()\n",
    "transmon_scq_energies = transmon_scq.eigenvals()\n",
    "        "
   ]
  },
  {
   "attachments": {},
   "cell_type": "markdown",
   "metadata": {},
   "source": [
    "## Check that self-implementation and scq implementation agree on transmon eigenenergies\n",
    "\n",
    "Test passes if the following cell evaluates to true"
   ]
  },
  {
   "cell_type": "code",
   "execution_count": null,
   "metadata": {},
   "outputs": [],
   "source": [
    "tare_transmon_scq_en = transmon_scq_energies - transmon_scq_energies[0]\n",
    "tare_self_transmon_en = transmon_energies - transmon_energies[0]\n",
    "#the following should evaluate to true\n",
    "(np.abs(tare_self_transmon_en - tare_transmon_scq_en)<=1e-3).all()"
   ]
  },
  {
   "attachments": {},
   "cell_type": "markdown",
   "metadata": {},
   "source": [
    "## Check that self-implementation and scq implementation agree on fluxonium eigenenergies\n",
    "Test passes if the following two cells evaluate to true"
   ]
  },
  {
   "cell_type": "code",
   "execution_count": null,
   "metadata": {},
   "outputs": [],
   "source": [
    "flux_A_scq_tared_en = flux_A_scq_energies - flux_A_scq_energies[0]\n",
    "flux_A_tared_en = flux_A_energies - flux_A_energies[0]\n",
    "(np.abs(flux_A_scq_tared_en - flux_A_tared_en)<=1e-3).all()"
   ]
  },
  {
   "cell_type": "code",
   "execution_count": null,
   "metadata": {},
   "outputs": [],
   "source": [
    "flux_B_scq_tared_en = flux_B_scq_energies - flux_B_scq_energies[0]\n",
    "flux_B_tared_en = flux_B_energies - flux_B_energies[0]\n",
    "(np.abs(flux_B_scq_tared_en - flux_B_tared_en)<=1e-3).all()"
   ]
  },
  {
   "attachments": {},
   "cell_type": "markdown",
   "metadata": {},
   "source": [
    "# Composite System SCQ Check"
   ]
  },
  {
   "attachments": {},
   "cell_type": "markdown",
   "metadata": {},
   "source": [
    "Define SCQ Composite System"
   ]
  },
  {
   "cell_type": "code",
   "execution_count": null,
   "metadata": {},
   "outputs": [],
   "source": [
    "n_transmon = transmon_scq.n_operator()\n",
    "n_A = flux_A_scq.n_operator()\n",
    "n_B = flux_B_scq.n_operator()\n",
    "interaction_coef = ct_params['interaction']\n",
    "scq_hilbertspace = scq.HilbertSpace([flux_A_scq, flux_B_scq, transmon_scq])\n",
    " #add three interaction terms\n",
    "scq_hilbertspace.add_interaction(\n",
    "    g=interaction_coef['g_AB']*2*np.pi,\n",
    "    op1=(n_A, flux_A_scq),\n",
    "    op2=(n_transmon, transmon_scq)\n",
    ")\n",
    "scq_hilbertspace.add_interaction(\n",
    "    g=interaction_coef['g_BC']*2*np.pi,\n",
    "    op1=(n_B, flux_B_scq),\n",
    "    op2=(n_transmon, transmon_scq)\n",
    ")\n",
    "scq_hilbertspace.add_interaction(\n",
    "    g=interaction_coef['g_AB']*2*np.pi,\n",
    "    op1=(n_A, flux_A_scq),\n",
    "    op2=(n_B, flux_B_scq)\n",
    ")\n"
   ]
  },
  {
   "attachments": {},
   "cell_type": "markdown",
   "metadata": {},
   "source": [
    "Extract SCQ and Handrolled Eigenenergies"
   ]
  },
  {
   "cell_type": "code",
   "execution_count": null,
   "metadata": {},
   "outputs": [],
   "source": [
    "scq_dressed_hamiltonian = scq_hilbertspace.hamiltonian()\n",
    "my_dressed_hamiltonian = sys.H \n",
    "scq_eigenenergies = scq_dressed_hamiltonian.eigenenergies()\n",
    "#scq_eigenenergies -= scq_eigenenergies[0]\n",
    "my_eigenenergies = my_dressed_hamiltonian.eigenenergies()\n",
    "#my_eigenenergies -= my_eigenenergies[0]\n",
    "\n",
    "print(scq_eigenenergies)\n",
    "print(my_eigenenergies)"
   ]
  },
  {
   "attachments": {},
   "cell_type": "markdown",
   "metadata": {},
   "source": [
    "# Subsystem SCQ Plots"
   ]
  },
  {
   "attachments": {},
   "cell_type": "markdown",
   "metadata": {},
   "source": [
    "For Flux A"
   ]
  },
  {
   "cell_type": "code",
   "execution_count": null,
   "metadata": {},
   "outputs": [],
   "source": [
    "fig, ax = flux_A_scq.plot_wavefunction(range(5))\n",
    "fig.savefig('../plots/flux_A_wavefunction_scq.png')"
   ]
  },
  {
   "cell_type": "code",
   "execution_count": null,
   "metadata": {},
   "outputs": [],
   "source": [
    "fig, ax = transmon_scq.plot_wavefunction(range(5))\n",
    "fig.savefig('../plots/transmon_wavefunction_scq.png')"
   ]
  },
  {
   "cell_type": "code",
   "execution_count": null,
   "metadata": {},
   "outputs": [],
   "source": [
    "comp_states, comp_coords = get_dressed_comp_states(sys)\n",
    "\n",
    "ee0_idx = comp_coords[1,1,0]\n",
    "ge1_idx = comp_coords[0,1,1]\n",
    "gf0_idx = comp_coords[0,2,0]\n",
    "eg0_idx = comp_coords[1,0,0]\n",
    "gg1_idx = comp_coords[0,0,1]\n",
    "ge0_idx = comp_coords[0,1,0]\n",
    "\n",
    "w_ee0_ge1 = (my_eigenenergies[ge1_idx] - my_eigenenergies[ee0_idx])/(2*np.pi)\n",
    "w_gf0_ge1 = (my_eigenenergies[ge1_idx] - my_eigenenergies[gf0_idx])/(2*np.pi)\n",
    "\n",
    "w_eg0_gg1 = (my_eigenenergies[gg1_idx] - my_eigenenergies[eg0_idx])/(2*np.pi)\n",
    "w_ge0_gg1 = (my_eigenenergies[gg1_idx] - my_eigenenergies[ge0_idx])/(2*np.pi)"
   ]
  },
  {
   "cell_type": "code",
   "execution_count": null,
   "metadata": {},
   "outputs": [],
   "source": [
    "print(w_ee0_ge1)\n",
    "print(w_gf0_ge1)\n",
    "print(w_eg0_gg1)\n",
    "print(w_ge0_gg1)"
   ]
  },
  {
   "cell_type": "code",
   "execution_count": null,
   "metadata": {},
   "outputs": [],
   "source": [
    "diff = -0.84 - w_ee0_ge1 \n",
    "print(w_gf0_ge1 + diff)\n",
    "print(w_ee0_ge1 + diff)\n",
    "print(diff)"
   ]
  },
  {
   "cell_type": "code",
   "execution_count": null,
   "metadata": {},
   "outputs": [],
   "source": [
    "w_ee0_ge1_scq = (scq_eigenenergies[ge1_idx] - scq_eigenenergies[ee0_idx])/((2*np.pi))\n",
    "w_gf0_ge1_scq = (scq_eigenenergies[ge1_idx] - scq_eigenenergies[gf0_idx])/((2*np.pi))\n",
    "print(w_ee0_ge1_scq)\n",
    "print(w_gf0_ge1_scq)"
   ]
  }
 ],
 "metadata": {
  "kernelspec": {
   "display_name": "Python 3 (ipykernel)",
   "language": "python",
   "name": "python3"
  },
  "language_info": {
   "codemirror_mode": {
    "name": "ipython",
    "version": 3
   },
   "file_extension": ".py",
   "mimetype": "text/x-python",
   "name": "python",
   "nbconvert_exporter": "python",
   "pygments_lexer": "ipython3",
   "version": "3.10.6"
  }
 },
 "nbformat": 4,
 "nbformat_minor": 4
}
