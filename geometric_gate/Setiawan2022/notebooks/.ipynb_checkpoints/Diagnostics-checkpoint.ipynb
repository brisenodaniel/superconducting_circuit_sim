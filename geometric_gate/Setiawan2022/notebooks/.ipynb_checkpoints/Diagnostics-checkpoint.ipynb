{
 "cells": [
  {
   "cell_type": "markdown",
   "id": "14657aef-0344-4929-8909-91f8d8c7b373",
   "metadata": {},
   "source": [
    "# Gate Diagnostics\n",
    "Module Imports"
   ]
  },
  {
   "cell_type": "code",
   "execution_count": 1,
   "id": "6e28e2a9-c018-4e85-a701-66d3815c0d77",
   "metadata": {},
   "outputs": [],
   "source": [
    "import qutip as qt\n",
    "import numpy as np\n",
    "import matplotlib.pyplot as plt\n",
    "import module_path\n",
    "import sys\n",
    "#add modules to path\n",
    "modules: str = module_path.add_module_path()\n",
    "sys.path.append(modules)\n",
    "import gate\n",
    "import file_io\n",
    "import simulation_setup as setup\n",
    "import composite_systems as systems\n",
    "import state_labeling as lbl"
   ]
  },
  {
   "cell_type": "markdown",
   "id": "dbc9c2c3-ca41-4bb2-8f42-29530583c43c",
   "metadata": {},
   "source": [
    "Set up simulation parameters"
   ]
  },
  {
   "cell_type": "code",
   "execution_count": 2,
   "id": "81df68dc-e56e-4aa9-9956-7b9f46b88e1f",
   "metadata": {
    "scrolled": true
   },
   "outputs": [],
   "source": [
    "pulse_lbls: list[str] = ['CZ-130ns'] #, 'CZ-130ns',\n",
    "               # 'CZ-400ns']\n",
    "configs = setup.setup_sim_from_configs(pulse_lbls=pulse_lbls)"
   ]
  },
  {
   "cell_type": "code",
   "execution_count": 3,
   "id": "56e87c7f-9ce2-4308-9b44-70a4f110b4e5",
   "metadata": {},
   "outputs": [
    {
     "data": {
      "text/plain": [
       "dict_keys(['CZ-130ns'])"
      ]
     },
     "execution_count": 3,
     "metadata": {},
     "output_type": "execute_result"
    }
   ],
   "source": [
    "len(configs)\n",
    "configs[1].keys()"
   ]
  },
  {
   "cell_type": "code",
   "execution_count": 4,
   "id": "5a445ff7-fef6-40a0-8860-f1f04aa9418f",
   "metadata": {},
   "outputs": [],
   "source": [
    "pulses: dict[str, setup.PulseProfile] = {pulse_lbl: configs[1][pulse_lbl]\n",
    "                                         for pulse_lbl in pulse_lbls}\n",
    "\n",
    "state_trajectories: dict[str, dict[str, np.ndarray[qt.Qobj]]] = {}\n",
    "\n",
    "for pulse_lbl, pulse in pulses.items():\n",
    "    pulse_gate = gate.profile_gate(pulse_lbl, pulse)\n",
    "    state_trajectories[pulse_lbl] = pulse_gate.trajectories\n",
    "    del pulse_gate\n",
    "\n",
    "#gates: dict[str, gate.GateProfile] = {pulse_lbl: gate.profile_gate(pulse_lbl, pulse)\n",
    " #                                     for pulse_lbl, pulse in pulses.items()}\n",
    "#state_vector_trajectories = {pulse_lbl: gates[pulse_lbl].trajectories \n",
    "#                             for pulse_lbl in gates}\n",
    "# def get_coords(gate: gate.GateProfile, init_state: str) -> np.ndarray[complex]:\n",
    "#     comp_states = ['ggg', 'geg', 'egg', 'eeg']\n",
    "#     gate_ct = gate.circuit\n",
    "#     state_vecs, state_coords = lbl.get_dressed_comp_states(gate_ct, 2)\n",
    "#     traj = gate.trajectories[init_state]\n",
    "#     coords: np.ndarray[complex] = np.empty(shape=[len(traj),4], dtype=complex)\n",
    "#     for i, rho in enumerate(traj):\n",
    "#         if rho.type != 'oper':\n",
    "#             rho = rho * rho.dag()\n",
    "#         for j, state in comp_states:\n",
    "#             n, m, k = gate.str_to_tuple(state)\n",
    "#             c_state = state_vecs[n,m,k]\n",
    "#             coord = (c_state.dag() * rho * c_state).tr()\n",
    "#             coords[i,j] = coord\n",
    "#     return coords\n",
    "\n",
    "# init_states = ['ggg', 'geg', 'egg', 'eeg']\n",
    "# trajectories = { gate_lbl: {init_state : get_coords(gate, init_state) \n",
    "#                             for int_state in init_states}\n",
    "#                     for gate_lbl, gate in gates}"
   ]
  },
  {
   "cell_type": "code",
   "execution_count": null,
   "id": "09410034-d123-4033-8e18-215c66b29abd",
   "metadata": {},
   "outputs": [],
   "source": [
    "# Generate needed arrays from trajectories\n",
    "state_lbls = ['ggg', 'geg', 'egg','eeg', 'ge1', 'gf0']\n",
    "ct = pulses['CZ-130ns'].circuit\n",
    "comp_state_tensor, comp_state_coords = lbl.get_dressed_comp_states(ct,3) \n",
    "state_tuples = {lbl: gate.str_to_tuple(lbl) for lbl in state_lbls}\n",
    "states = {lbl: comp_state_tensor[i,j,k] \n",
    "          for lbl, (i,j,k) in state_tuples.items()}\n",
    "\n",
    "def get_coords(traj):\n",
    "    coords: dict[str, np.ndarray] = {\n",
    "        lbl: np.empty(len(traj), dtype=complex)\n",
    "        for lbl in state_lbls}\n",
    "    for i, psi in enumerate(traj):\n",
    "        for lbl, array in coords.items():\n",
    "            basis_state = states[lbl]\n",
    "            coordinate = (basis_state.dag()*psi).tr()\n",
    "            array[i] = coordinate\n",
    "    return coords\n",
    "\n",
    "# generate coordinates\n",
    "coords: dict[str, dict[str, dict[str,np.ndarray[complex]]]] = {}\n",
    "\n",
    "for pulse, traj_dict in state_trajectories.items():\n",
    "    traj_coords = {init_state: get_coords(traj)\n",
    "                   for init_state, traj in traj_dict.items()}\n",
    "    coords[pulse] = traj_coords\n",
    "\n",
    "\n",
    "            \n",
    "    "
   ]
  },
  {
   "cell_type": "code",
   "execution_count": null,
   "id": "6a661a2e-0d3a-4660-b2ac-7731624c3a85",
   "metadata": {},
   "outputs": [],
   "source": [
    "\n",
    "basis = ['ggg', 'geg', 'egg', 'eeg']\n",
    "# generate gate fidelities\n",
    "U_ideal = file_io.load_unitary('CZ')\n",
    "fidelities: dict[str, np.ndarray[float]] = {}\n",
    "for pulse, traj_dict in state_trajectories.items():\n",
    "    f = np.empty(len(traj_dict['ggg']))\n",
    "    for t in range(len(traj_dict['ggg'])):\n",
    "        timestep_state = {lbl: [traj_dict[lbl][t]]\n",
    "                          for lbl in basis}\n",
    "        print(timestep_state)\n",
    "        _, U = gate.compute_unitary(timestep_state,\n",
    "                                   comp_state_tensor,\n",
    "                                   comp_state_coords)\n",
    "        f[t] = gate.compute_fidelity(U_ideal, U, comp_state_tensor)\n",
    "    fidelities[pulse] = f\n",
    "print(U)"
   ]
  },
  {
   "cell_type": "code",
   "execution_count": null,
   "id": "fd8c050b-f3ff-4b54-8c92-3d7d1fb1b6af",
   "metadata": {},
   "outputs": [],
   "source": [
    "#make coordinate plots\n",
    "\n",
    "for pulse, traj_dict in coords.items():\n",
    "    fig, axs = plt.subplots(4,1)\n",
    "    for j, init_state in enumerate(traj_dict):\n",
    "        axs[j].set_title(f'{init_state}')\n",
    "        for basis_state, traj in traj_dict[init_state].items():\n",
    "            axs[j].plot(traj*np.conj(traj), label=basis_state)\n",
    "    axs[1].legend()\n",
    "    fig.tight_layout()\n",
    "    fig.set_figheight(12)\n",
    "    fig.savefig(fname=f'{pulse}_{init_state}.pdf')\n",
    "        \n",
    "    "
   ]
  },
  {
   "cell_type": "code",
   "execution_count": null,
   "id": "f86bc554-30fd-4294-87c4-1cd7f9222c37",
   "metadata": {},
   "outputs": [],
   "source": [
    "#make fidelity plots\n",
    "fig, ax = plt.subplots()\n",
    "\n",
    "for pulse, traj in fidelities.items():\n",
    "    ax.plot(traj, label=pulse)\n",
    "ax.legend()\n",
    "ax.set_title('Gate Fidelity Over Time')\n",
    "fig.savefig('Gate_Fidelity.pdf')\n"
   ]
  },
  {
   "cell_type": "code",
   "execution_count": null,
   "id": "15c48ba9-960c-4206-a6c2-7f5426f744f5",
   "metadata": {},
   "outputs": [],
   "source": []
  }
 ],
 "metadata": {
  "kernelspec": {
   "display_name": "Python 3 (ipykernel)",
   "language": "python",
   "name": "python3"
  },
  "language_info": {
   "codemirror_mode": {
    "name": "ipython",
    "version": 3
   },
   "file_extension": ".py",
   "mimetype": "text/x-python",
   "name": "python",
   "nbconvert_exporter": "python",
   "pygments_lexer": "ipython3",
   "version": "3.10.6"
  }
 },
 "nbformat": 4,
 "nbformat_minor": 5
}
