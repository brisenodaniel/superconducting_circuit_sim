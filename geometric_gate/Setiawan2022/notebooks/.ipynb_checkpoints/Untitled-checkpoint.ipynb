{
 "cells": [
  {
   "cell_type": "code",
   "execution_count": 63,
   "id": "e855b63f-a394-4c47-96d3-78271a1bd61c",
   "metadata": {},
   "outputs": [],
   "source": [
    "import qutip as qt\n",
    "import numpy as np\n",
    "import matplotlib.pyplot as plt\n",
    "import module_path\n",
    "import sys\n",
    "#add modules to path\n",
    "modules: str = module_path.add_module_path()\n",
    "sys.path.append(modules)\n",
    "import gate\n",
    "import file_io\n",
    "import simulation_setup as setup\n",
    "import pulse\n",
    "from pulse import Pulse\n",
    "import composite_systems as systems\n",
    "import state_labeling as lbl\n",
    "from random import random"
   ]
  },
  {
   "cell_type": "markdown",
   "id": "2de951cf-cbeb-4c4e-b367-37ab9b0f3eac",
   "metadata": {},
   "source": [
    "Make Custom Unitary"
   ]
  },
  {
   "cell_type": "code",
   "execution_count": 48,
   "id": "e35773db-6f4d-4897-ae4f-2d2e2f8c5a18",
   "metadata": {},
   "outputs": [
    {
     "data": {
      "text/latex": [
       "Quantum object: dims = [[2, 2], [2, 2]], shape = (4, 4), type = oper, isherm = False $ \\\\ \\left(\\begin{matrix}(0.999+0.047j) & 0.0 & 0.0 & 0.0\\\\0.0 & (0.471-0.882j) & 0.0 & 0.0\\\\0.0 & 0.0 & (0.747+0.665j) & 0.0\\\\0.0 & 0.0 & 0.0 & (-0.921+0.389j)\\\\\\end{matrix}\\right)$"
      ],
      "text/plain": [
       "Quantum object: dims = [[2, 2], [2, 2]], shape = (4, 4), type = oper, isherm = False\n",
       "Qobj data =\n",
       "[[ 0.99890946+0.04668921j  0.        +0.j          0.        +0.j\n",
       "   0.        +0.j        ]\n",
       " [ 0.        +0.j          0.47095816-0.88215555j  0.        +0.j\n",
       "   0.        +0.j        ]\n",
       " [ 0.        +0.j          0.        +0.j          0.74691475+0.66491981j\n",
       "   0.        +0.j        ]\n",
       " [ 0.        +0.j          0.        +0.j          0.        +0.j\n",
       "  -0.92116243+0.38917834j]]"
      ]
     },
     "metadata": {},
     "output_type": "display_data"
    },
    {
     "data": {
      "text/latex": [
       "Quantum object: dims = [[2, 2], [2, 2]], shape = (4, 4), type = oper, isherm = True $ \\\\ \\left(\\begin{matrix}1.000 & 0.0 & 0.0 & 0.0\\\\0.0 & 1.0 & 0.0 & 0.0\\\\0.0 & 0.0 & 1.000 & 0.0\\\\0.0 & 0.0 & 0.0 & -1.000\\\\\\end{matrix}\\right)$"
      ],
      "text/plain": [
       "Quantum object: dims = [[2, 2], [2, 2]], shape = (4, 4), type = oper, isherm = True\n",
       "Qobj data =\n",
       "[[ 1.  0.  0.  0.]\n",
       " [ 0.  1.  0.  0.]\n",
       " [ 0.  0.  1.  0.]\n",
       " [ 0.  0.  0. -1.]]"
      ]
     },
     "metadata": {},
     "output_type": "display_data"
    },
    {
     "data": {
      "text/plain": [
       "1.0"
      ]
     },
     "execution_count": 48,
     "metadata": {},
     "output_type": "execute_result"
    }
   ],
   "source": [
    "rng = np.random.default_rng()\n",
    "global_phase = random()*2*np.pi\n",
    "phi_00 = 0\n",
    "phi_11 = random()*2*np.pi + phi_00\n",
    "phi_22 = random()*2*np.pi + phi_00\n",
    "phi_33 = np.pi + phi_00 + phi_11 + phi_22\n",
    "test_diag = [np.exp(phi_00*1j), np.exp(phi_11*1j), np.exp(phi_22*1j), np.exp(1j*phi_33)]\n",
    "U_test = qt.qdiags(test_diag, dims=[[2,2],[2,2]], offsets=0) * np.exp(1j*global_phase)\n",
    "display(U_test)\n",
    "U = gate._trivial_z_qs(U_test)\n",
    "display(U)\n"
   ]
  },
  {
   "cell_type": "code",
   "execution_count": 3,
   "id": "e9bf2c65-9611-4061-93c1-a210224db96f",
   "metadata": {},
   "outputs": [
    {
     "data": {
      "text/plain": [
       "[3.229904173321701, 2.2116952938393757, 0.08883021688101835, 8.672022337631887]"
      ]
     },
     "execution_count": 3,
     "metadata": {},
     "output_type": "execute_result"
    }
   ],
   "source": [
    "[phi_00, phi_11, phi_22, phi_33]"
   ]
  },
  {
   "cell_type": "code",
   "execution_count": 40,
   "id": "a3f0382f-953e-4544-bac0-7f05dafbe8f5",
   "metadata": {},
   "outputs": [
    {
     "data": {
      "text/plain": [
       "(-1-5.551115123125783e-17j)"
      ]
     },
     "execution_count": 40,
     "metadata": {},
     "output_type": "execute_result"
    }
   ],
   "source": [
    "zz = U_test[3,3]\n",
    "zz *(U_test[0,0].conjugate()/abs(U_test[0,0])) * U_test[1,1].conjugate() * U_test[2,2].conjugate()"
   ]
  },
  {
   "cell_type": "code",
   "execution_count": 37,
   "id": "e4d632a9-dd31-48b1-b371-d60a649d5395",
   "metadata": {},
   "outputs": [
    {
     "data": {
      "text/plain": [
       "(-1+1.2246467991473532e-16j)"
      ]
     },
     "execution_count": 37,
     "metadata": {},
     "output_type": "execute_result"
    }
   ],
   "source": [
    "np.exp(1j*(phi_33 - (phi_00 + phi_11 + phi_22)))"
   ]
  },
  {
   "cell_type": "code",
   "execution_count": 5,
   "id": "2cd387da-6155-44c9-a8d3-a5e4aa9bb94b",
   "metadata": {},
   "outputs": [
    {
     "data": {
      "text/latex": [
       "Quantum object: dims = [[2, 2], [2, 2]], shape = (4, 4), type = oper, isherm = False $ \\\\ \\left(\\begin{matrix}1.000 & 0.0 & 0.0 & 0.0\\\\0.0 & 1.0 & 0.0 & 0.0\\\\0.0 & 0.0 & 1.0 & 0.0\\\\0.0 & 0.0 & 0.0 & (-0.984-0.176j)\\\\\\end{matrix}\\right)$"
      ],
      "text/plain": [
       "Quantum object: dims = [[2, 2], [2, 2]], shape = (4, 4), type = oper, isherm = False\n",
       "Qobj data =\n",
       "[[ 1.        +0.j          0.        +0.j          0.        +0.j\n",
       "   0.        +0.j        ]\n",
       " [ 0.        +0.j          1.        +0.j          0.        +0.j\n",
       "   0.        +0.j        ]\n",
       " [ 0.        +0.j          0.        +0.j          1.        +0.j\n",
       "   0.        +0.j        ]\n",
       " [ 0.        +0.j          0.        +0.j          0.        +0.j\n",
       "  -0.98444266-0.17570616j]]"
      ]
     },
     "execution_count": 5,
     "metadata": {},
     "output_type": "execute_result"
    }
   ],
   "source": [
    "U = U_test * (U_test[0,0].conjugate()/abs(U_test[0,0]))\n",
    "triv_z_diag = [U[i,i].conjugate()/abs(U[i,i]) for i in range(3)]\n",
    "triv_z_diag.append(U[1,1].conjugate()*U[2,2].conjugate()/(abs(U[1,1])*abs(U[2,2])))\n",
    "triv_z = (U_test[0,0].conjugate()/abs(U_test[0,0])) * qt.qdiags(triv_z_diag, offsets=0, dims=[[2,2],[2,2]])\n",
    "triv_z * U_test"
   ]
  },
  {
   "cell_type": "code",
   "execution_count": 6,
   "id": "c27d5cbc-c4c0-4ac9-9833-175228d7065d",
   "metadata": {},
   "outputs": [
    {
     "data": {
      "text/plain": [
       "3.3182156930536073"
      ]
     },
     "execution_count": 6,
     "metadata": {},
     "output_type": "execute_result"
    }
   ],
   "source": [
    "ang = np.angle\n",
    "ang(U[3,3]) - ang(U[2,2]) - ang(U[1,1])"
   ]
  },
  {
   "cell_type": "code",
   "execution_count": 7,
   "id": "0255ba2c-9bfa-4a39-baa5-fd1aa63b723b",
   "metadata": {},
   "outputs": [
    {
     "data": {
      "text/plain": [
       "(-0.976865437439626-0.21385489738579366j)"
      ]
     },
     "execution_count": 7,
     "metadata": {},
     "output_type": "execute_result"
    }
   ],
   "source": [
    "np.exp(1j*3.357112111270943)"
   ]
  },
  {
   "cell_type": "code",
   "execution_count": 8,
   "id": "91f273eb-8e93-4335-8f42-c6a63180c3b6",
   "metadata": {},
   "outputs": [
    {
     "data": {
      "text/plain": [
       "-0.8410671428694003"
      ]
     },
     "execution_count": 8,
     "metadata": {},
     "output_type": "execute_result"
    }
   ],
   "source": [
    "ang(U_test[3,3])"
   ]
  },
  {
   "cell_type": "code",
   "execution_count": 9,
   "id": "37700f72-5189-4a38-a82c-be6f4e794b8f",
   "metadata": {},
   "outputs": [
    {
     "data": {
      "text/plain": [
       "-1.0176901823332152"
      ]
     },
     "execution_count": 9,
     "metadata": {},
     "output_type": "execute_result"
    }
   ],
   "source": [
    "sum([ang(U_test[i,i]) for i in range(3)]) + np.pi"
   ]
  },
  {
   "cell_type": "code",
   "execution_count": 10,
   "id": "3de514c7-6628-43f9-8270-2ed5af8c11a9",
   "metadata": {},
   "outputs": [
    {
     "data": {
      "text/latex": [
       "Quantum object: dims = [[2, 2], [2, 2]], shape = (4, 4), type = oper, isherm = False $ \\\\ \\left(\\begin{matrix}1.000 & 0.0 & 0.0 & 0.0\\\\0.0 & (0.525-0.851j) & 0.0 & 0.0\\\\0.0 & 0.0 & (-1.000-5.187\\times10^{-04}j) & 0.0\\\\0.0 & 0.0 & 0.0 & (0.667-0.745j)\\\\\\end{matrix}\\right)$"
      ],
      "text/plain": [
       "Quantum object: dims = [[2, 2], [2, 2]], shape = (4, 4), type = oper, isherm = False\n",
       "Qobj data =\n",
       "[[ 1.        +0.00000000e+00j  0.        +0.00000000e+00j\n",
       "   0.        +0.00000000e+00j  0.        +0.00000000e+00j]\n",
       " [ 0.        +0.00000000e+00j  0.52489134-8.51169244e-01j\n",
       "   0.        +0.00000000e+00j  0.        +0.00000000e+00j]\n",
       " [ 0.        +0.00000000e+00j  0.        +0.00000000e+00j\n",
       "  -0.99999987-5.18697126e-04j  0.        +0.00000000e+00j]\n",
       " [ 0.        +0.00000000e+00j  0.        +0.00000000e+00j\n",
       "   0.        +0.00000000e+00j  0.66666781-7.45354974e-01j]]"
      ]
     },
     "execution_count": 10,
     "metadata": {},
     "output_type": "execute_result"
    }
   ],
   "source": [
    "U_test"
   ]
  },
  {
   "cell_type": "code",
   "execution_count": 11,
   "id": "96b5c5da-195d-49e4-b5cd-a86f6000f852",
   "metadata": {},
   "outputs": [
    {
     "data": {
      "text/plain": [
       "0.0"
      ]
     },
     "execution_count": 11,
     "metadata": {},
     "output_type": "execute_result"
    }
   ],
   "source": [
    "ang(U[0,0])"
   ]
  },
  {
   "cell_type": "code",
   "execution_count": 56,
   "id": "9838da18-0ec2-4ddf-a34f-3ccb6c9eb6c0",
   "metadata": {},
   "outputs": [],
   "source": [
    "configs = setup.setup_sim_from_configs(pulse_lbls=['CZ-400ns'])\n",
    "pulse_profile = configs[1]['CZ-400ns']\n"
   ]
  },
  {
   "cell_type": "code",
   "execution_count": 59,
   "id": "d973bae3-3112-4336-b20d-352722c31c63",
   "metadata": {},
   "outputs": [
    {
     "data": {
      "text/plain": [
       "{'w_ee0_ge1': -0.8405104999451773, 'w_gf0_ge1': -2.4283502742723426}"
      ]
     },
     "metadata": {},
     "output_type": "display_data"
    },
    {
     "data": {
      "text/plain": [
       "{'w_ee0_ge1': -0.84, 'w_gf0_ge1': -2.43}"
      ]
     },
     "metadata": {},
     "output_type": "display_data"
    }
   ],
   "source": [
    "pulse_params = pulse_profile.pulse_config.pulse_params\n",
    "ct = pulse_profile.circuit\n",
    "\n",
    "static_attr = pulse.StaticPulseAttr(pulse_params, ct)\n",
    "\n",
    "en_ee0 = static_attr.eigenen('ee0')\n",
    "en_ge1 = static_attr.eigenen('ge1')\n",
    "en_gf0 = static_attr.eigenen('gf0')\n",
    "\n",
    "sim_trans_freq = {'w_ee0_ge1': (en_ge1 - en_ee0)/(2*np.pi),\n",
    "                  'w_gf0_ge1': (en_ge1 - en_gf0)/(2*np.pi)}\n",
    "paper_trans_freq = {'w_ee0_ge1': -0.84,\n",
    "                    'w_gf0_ge1': -2.43}\n",
    "\n",
    "display(sim_trans_freq)\n",
    "display(paper_trans_freq)"
   ]
  },
  {
   "cell_type": "code",
   "execution_count": 67,
   "id": "3612ed37-7b5a-451a-ae65-20360b578e1e",
   "metadata": {},
   "outputs": [],
   "source": [
    "pulse = Pulse(pulse_params, ct)\n",
    "tg = pulse_profile.pulse_config.pulse_params['tg']\n",
    "dt = pulse_profile.pulse_config.pulse_params['dt']\n",
    "t_ramp = pulse_profile.pulse_config.pulse_params['t_ramp']\n",
    "tlist = np.arange(0, tg + 2 * t_ramp, dt)\n",
    "tlist = tlist[::100]\n",
    "gs = pulse._Pulse__g_ac(tlist, np.pi)"
   ]
  },
  {
   "cell_type": "code",
   "execution_count": 76,
   "id": "dc49e2b9-2031-4759-8d13-0fb514cef8e2",
   "metadata": {},
   "outputs": [
    {
     "name": "stderr",
     "output_type": "stream",
     "text": [
      "/tmp/ipykernel_59836/1897043844.py:15: ComplexWarning: Casting complex values to real discards the imaginary part\n",
      "  detuning_arr['A'][i] = w_A - deltas['A'][i]\n",
      "/tmp/ipykernel_59836/1897043844.py:16: ComplexWarning: Casting complex values to real discards the imaginary part\n",
      "  detuning_arr['B'][i] = w_B - deltas['B'][i]\n"
     ]
    },
    {
     "name": "stdout",
     "output_type": "stream",
     "text": [
      "(-5.2811366039282035+0j)\n",
      "(-15.25792793195225+0j)\n",
      "(-5.281136600624367+0j)\n",
      "(-15.257929150575903+0j)\n",
      "(-5.281136597131478+0j)\n",
      "(-15.257930375348948+0j)\n",
      "(-5.2811365934454955+0j)\n",
      "(-15.257931606109599+0j)\n",
      "(-5.281136589562377+0j)\n",
      "(-15.257932842696004+0j)\n",
      "(-5.281136585478073+0j)\n",
      "(-15.257934084946255+0j)\n",
      "(-5.281136581188534+0j)\n",
      "(-15.257935332698382+0j)\n",
      "(-5.281136576689707+0j)\n",
      "(-15.257936585790357+0j)\n",
      "(-5.281136571977537+0j)\n",
      "(-15.257937844060086+0j)\n",
      "(-5.2811365670479695+0j)\n",
      "(-15.257939107345415+0j)\n",
      "(-5.281136561896951+0j)\n",
      "(-15.257940375484132+0j)\n",
      "(-5.281136556520427+0j)\n",
      "(-15.257941648313961+0j)\n",
      "(-5.281136550914347+0j)\n",
      "(-15.25794292567257+0j)\n",
      "(-5.281136545074664+0j)\n",
      "(-15.257944207397568+0j)\n",
      "(-5.28113653899733+0j)\n",
      "(-15.25794549332651+0j)\n",
      "(-5.2811365326783095+0j)\n",
      "(-15.257946783296898+0j)\n",
      "(-5.281136526113564+0j)\n",
      "(-15.257948077146185+0j)\n",
      "(-5.281136519299069+0j)\n",
      "(-15.25794937471178+0j)\n",
      "(-5.2811365122308+0j)\n",
      "(-15.257950675831044+0j)\n",
      "(-5.281136504904746+0j)\n",
      "(-15.257951980341305+0j)\n",
      "(-5.281136497316902+0j)\n",
      "(-15.257953288079857+0j)\n",
      "(-5.281136489463275+0j)\n",
      "(-15.25795459888396+0j)\n",
      "(-5.281136481339881+0j)\n",
      "(-15.257955912590859+0j)\n",
      "(-5.281136472942747+0j)\n",
      "(-15.257957229037775+0j)\n",
      "(-5.281136464267915+0j)\n",
      "(-15.257958548061918+0j)\n",
      "(-5.281136455311436+0j)\n",
      "(-15.257959869500498+0j)\n",
      "(-5.281136446069379+0j)\n",
      "(-15.257961193190722+0j)\n",
      "(-5.281136436537827+0j)\n",
      "(-15.257962518969812+0j)\n",
      "(-5.281136426712878+0j)\n",
      "(-15.257963846675004+0j)\n",
      "(-5.281136416590649+0j)\n",
      "(-15.257965176143562+0j)\n",
      "(-5.2811364061672705+0j)\n",
      "(-15.257966507212785+0j)\n",
      "(-5.281136395438897+0j)\n",
      "(-15.257967839720013+0j)\n",
      "(-5.281136384401697+0j)\n",
      "(-15.257969173502644+0j)\n",
      "(-5.281136373051864+0j)\n",
      "(-15.257970508398135+0j)\n",
      "(-5.2811363613856095+0j)\n",
      "(-15.25797184424402+0j)\n",
      "(-5.281136349399169+0j)\n",
      "(-15.257973180877915+0j)\n",
      "(-5.2811363370888005+0j)\n",
      "(-15.257974518137534+0j)\n",
      "(-5.2811363244507845+0j)\n",
      "(-15.257975855860694+0j)\n",
      "(-5.281136311481428+0j)\n",
      "(-15.257977193885337+0j)\n",
      "(-5.281136298177064+0j)\n",
      "(-15.25797853204953+0j)\n",
      "(-5.2811362845340515+0j)\n",
      "(-15.257979870191486+0j)\n",
      "(-5.2811362705487745+0j)\n",
      "(-15.257981208149577+0j)\n",
      "(-5.281136256217648+0j)\n",
      "(-15.257982545762346+0j)\n",
      "(-5.281136241537117+0j)\n",
      "(-15.257983882868515+0j)\n",
      "(-5.281136226503654+0j)\n",
      "(-15.257985219307011+0j)\n",
      "(-5.281136211113764+0j)\n",
      "(-15.257986554916968+0j)\n",
      "(-5.281136195363982+0j)\n",
      "(-15.257987889537752+0j)\n",
      "(-5.281136179250879+0j)\n",
      "(-15.257989223008972+0j)\n",
      "(-5.281136162771057+0j)\n",
      "(-15.257990555170492+0j)\n",
      "(-5.2811361459211525+0j)\n",
      "(-15.257991885862456+0j)\n",
      "(-5.281136128697837+0j)\n",
      "(-15.257993214925296+0j)\n",
      "(-5.281136111097822+0j)\n",
      "(-15.257994542199752+0j)\n",
      "(-5.2811360931178495+0j)\n",
      "(-15.25799586752689+0j)\n",
      "(-5.281136074754704+0j)\n",
      "(-15.257997190748116+0j)\n",
      "(-5.281136056005207+0j)\n",
      "(-15.257998511705196+0j)\n",
      "(-5.28113603686622+0j)\n",
      "(-15.257999830240276+0j)\n",
      "(-5.281136017334645+0j)\n",
      "(-15.258001146195896+0j)\n",
      "(-5.281135997407425+0j)\n",
      "(-15.258002459415009+0j)\n",
      "(-5.2811359770815445+0j)\n",
      "(-15.258003769741002+0j)\n",
      "(-5.2811359563540305+0j)\n",
      "(-15.258005077017714+0j)\n",
      "(-5.281135935221956+0j)\n",
      "(-15.258006381089457+0j)\n",
      "(-5.2811359136824345+0j)\n",
      "(-15.258007681801033+0j)\n",
      "(-5.281135891732629+0j)\n",
      "(-15.258008978997752+0j)\n",
      "(-5.281135869369745+0j)\n",
      "(-15.25801027252546+0j)\n",
      "(-5.281135846591036+0j)\n",
      "(-15.258011562230553+0j)\n",
      "(-5.281135823393805+0j)\n",
      "(-15.258012847959998+0j)\n",
      "(-5.2811357997754005+0j)\n",
      "(-15.258014129561353+0j)\n",
      "(-5.281135775733221+0j)\n",
      "(-15.258015406882793+0j)\n",
      "(-5.281135751264714+0j)\n",
      "(-15.258016679773124+0j)\n",
      "(-5.281135726367382+0j)\n",
      "(-15.258017948081816+0j)\n",
      "(-5.281135701038773+0j)\n",
      "(-15.258019211659011+0j)\n",
      "(-5.281135675276489+0j)\n",
      "(-15.25802047035555+0j)\n",
      "(-5.281135649078186+0j)\n",
      "(-15.258021724023001+0j)\n",
      "(-5.281135622441573+0j)\n",
      "(-15.258022972513668+0j)\n",
      "(-5.281135595364412+0j)\n",
      "(-15.258024215680631+0j)\n",
      "(-5.2811355678445215+0j)\n",
      "(-15.258025453377751+0j)\n",
      "(-5.281135539879775+0j)\n",
      "(-15.258026685459702+0j)\n",
      "(-5.281135511468099+0j)\n",
      "(-15.258027911781992+0j)\n",
      "(-5.281135482607483+0j)\n",
      "(-15.258029132200987+0j)\n",
      "(-5.281135453295968+0j)\n",
      "(-15.258030346573928+0j)\n",
      "(-5.281135423531658+0j)\n",
      "(-15.258031554758961+0j)\n",
      "(-5.28113539331271+0j)\n",
      "(-15.258032756615156+0j)\n",
      "(-5.281135362637346+0j)\n",
      "(-15.258033952002531+0j)\n",
      "(-5.281135331503845+0j)\n",
      "(-15.258035140782077+0j)\n",
      "(-5.281135299910545+0j)\n",
      "(-15.258036322815775+0j)\n",
      "(-5.2811352678558485+0j)\n",
      "(-15.258037497966624+0j)\n",
      "(-5.281135235338218+0j)\n",
      "(-15.258038666098667+0j)\n",
      "(-5.281135202356176+0j)\n",
      "(-15.25803982707701+0j)\n",
      "(-5.281135168908311+0j)\n",
      "(-15.258040980767838+0j)\n",
      "(-5.2811351349932725+0j)\n",
      "(-15.258042127038456+0j)\n",
      "(-5.281135100609774+0j)\n",
      "(-15.258043265757296+0j)\n",
      "(-5.281135065756592+0j)\n",
      "(-15.258044396793947+0j)\n",
      "(-5.281135030432569+0j)\n",
      "(-15.258045520019175+0j)\n",
      "(-5.281134994636614+0j)\n",
      "(-15.25804663530495+0j)\n",
      "(-5.281134958367697+0j)\n",
      "(-15.258047742524464+0j)\n",
      "(-5.281134921624856+0j)\n",
      "(-15.25804884155216+0j)\n",
      "(-5.281134884407197+0j)\n",
      "(-15.258049932263747+0j)\n",
      "(-5.281134846713889+0j)\n",
      "(-15.258051014536225+0j)\n",
      "(-5.28113480854417+0j)\n",
      "(-15.258052088247915+0j)\n",
      "(-5.281134769897346+0j)\n",
      "(-15.258053153278466+0j)\n",
      "(-5.281134730772789+0j)\n",
      "(-15.258054209508892+0j)\n",
      "(-5.281134691169938+0j)\n",
      "(-15.258055256821587+0j)\n",
      "(-5.281134651088302+0j)\n",
      "(-15.258056295100342+0j)\n",
      "(-5.281134610527459+0j)\n",
      "(-15.25805732423038+0j)\n",
      "(-5.281134569487054+0j)\n",
      "(-15.258058344098364+0j)\n",
      "(-5.281134527966801+0j)\n",
      "(-15.258059354592422+0j)\n",
      "(-5.281134485966484+0j)\n",
      "(-15.258060355602174+0j)\n",
      "(-5.281134443485955+0j)\n",
      "(-15.258061347018742+0j)\n",
      "(-5.281134400525138+0j)\n",
      "(-15.25806232873478+0j)\n",
      "(-5.281134357084025+0j)\n",
      "(-15.258063300644492+0j)\n",
      "(-5.281134313162679+0j)\n",
      "(-15.258064262643643+0j)\n",
      "(-5.281134268761229+0j)\n",
      "(-15.258065214629593+0j)\n",
      "(-5.281134223879879+0j)\n",
      "(-15.258066156501304+0j)\n",
      "(-5.281134178518902+0j)\n",
      "(-15.258067088159367+0j)\n",
      "(-5.2811341326786385+0j)\n",
      "(-15.258068009506015+0j)\n",
      "(-5.281134086359502+0j)\n",
      "(-15.258068920445146+0j)\n",
      "(-5.2811340395619775+0j)\n",
      "(-15.258069820882335+0j)\n",
      "(-5.281133992286616+0j)\n",
      "(-15.258070710724862+0j)\n",
      "(-5.281133944534042+0j)\n",
      "(-15.258071589881716+0j)\n",
      "(-5.281133896304949+0j)\n",
      "(-15.258072458263623+0j)\n",
      "(-5.281133847600103+0j)\n",
      "(-15.258073315783056+0j)\n",
      "(-5.281133798420336+0j)\n",
      "(-15.258074162354255+0j)\n",
      "(-5.281133748766554+0j)\n",
      "(-15.258074997893237+0j)\n",
      "(-5.281133698639732+0j)\n",
      "(-15.25807582231782+0j)\n",
      "(-5.281133648040914+0j)\n",
      "(-15.258076635547633+0j)\n",
      "(-5.281133596971213+0j)\n",
      "(-15.258077437504125+0j)\n",
      "(-5.281133545431814+0j)\n",
      "(-15.258078228110595+0j)\n",
      "(-5.28113349342397+0j)\n",
      "(-15.258079007292183+0j)\n",
      "(-5.281133440949002+0j)\n",
      "(-15.258079774975906+0j)\n",
      "(-5.2811333880083025+0j)\n",
      "(-15.258080531090656+0j)\n",
      "(-5.281133334603331+0j)\n",
      "(-15.258081275567214+0j)\n",
      "(-5.281133280735617+0j)\n",
      "(-15.258082008338272+0j)\n",
      "(-5.281133226406754+0j)\n",
      "(-15.258082729338426+0j)\n",
      "(-5.28113317161841+0j)\n",
      "(-15.258083438504208+0j)\n",
      "(-5.281133116372315+0j)\n",
      "(-15.258084135774078+0j)\n",
      "(-5.281133060670268+0j)\n",
      "(-15.258084821088445+0j)\n",
      "(-5.281133004514137+0j)\n",
      "(-15.258085494389674+0j)\n",
      "(-5.281132947905853+0j)\n",
      "(-15.258086155622086+0j)\n",
      "(-5.281132890847415+0j)\n",
      "(-15.258086804731985+0j)\n",
      "(-5.281132833340887+0j)\n",
      "(-15.258087441667646+0j)\n",
      "(-5.2811327753884+0j)\n",
      "(-15.258088066379335+0j)\n",
      "(-5.281132716992147+0j)\n",
      "(-15.258088678819309+0j)\n",
      "(-5.281132658154388+0j)\n",
      "(-15.258089278941826+0j)\n",
      "(-5.281132598877445+0j)\n",
      "(-15.258089866703148+0j)\n",
      "(-5.281132539163704+0j)\n",
      "(-15.258090442061551+0j)\n",
      "(-5.281132479015615+0j)\n",
      "(-15.258091004977318+0j)\n",
      "(-5.281132418435688+0j)\n",
      "(-15.258091555412758+0j)\n",
      "(-5.281132357426498+0j)\n",
      "(-15.258092093332198+0j)\n",
      "(-5.281132295990676+0j)\n",
      "(-15.258092618701994+0j)\n",
      "(-5.2811322341309195+0j)\n",
      "(-15.258093131490522+0j)\n",
      "(-5.281132171849983+0j)\n",
      "(-15.258093631668194+0j)\n",
      "(-5.28113210915068+0j)\n",
      "(-15.258094119207447+0j)\n",
      "(-5.281132046035884+0j)\n",
      "(-15.258094594082753+0j)\n",
      "(-5.281131982508526+0j)\n",
      "(-15.258095056270609+0j)\n",
      "(-5.281131918571595+0j)\n",
      "(-15.258095505749546+0j)\n",
      "(-5.2811318542281365+0j)\n",
      "(-15.258095942500123+0j)\n",
      "(-5.281131789481251+0j)\n",
      "(-15.258096366504926+0j)\n",
      "(-5.281131724334096+0j)\n",
      "(-15.258096777748564+0j)\n",
      "(-5.281131658789883+0j)\n",
      "(-15.258097176217673+0j)\n",
      "(-5.281131592851877+0j)\n",
      "(-15.258097561900902+0j)\n",
      "(-5.281131526523398+0j)\n",
      "(-15.258097934788918+0j)\n",
      "(-5.281131459807814+0j)\n",
      "(-15.258098294874396+0j)\n",
      "(-5.28113139270855+0j)\n",
      "(-15.258098642152019+0j)\n",
      "(-5.2811313252290795+0j)\n",
      "(-15.258098976618466+0j)\n",
      "(-5.281131257372925+0j)\n",
      "(-15.258099298272413+0j)\n",
      "(-5.281131189143659+0j)\n",
      "(-15.258099607114518+0j)\n",
      "(-5.281131120544904+0j)\n",
      "(-15.258099903147423+0j)\n",
      "(-5.281131051580327+0j)\n",
      "(-15.258100186375739+0j)\n",
      "(-5.281130982253644+0j)\n",
      "(-15.258100456806037+0j)\n",
      "(-5.281130912568615+0j)\n",
      "(-15.258100714446847+0j)\n",
      "(-5.281130842529048+0j)\n",
      "(-15.258100959308642+0j)\n",
      "(-5.281130772138794+0j)\n",
      "(-15.258101191403828+0j)\n",
      "(-5.281130701401744+0j)\n",
      "(-15.258101410746738+0j)\n",
      "(-5.281130630321835+0j)\n",
      "(-15.258101617353612+0j)\n",
      "(-5.281130558903044+0j)\n",
      "(-15.258101811242598+0j)\n",
      "(-5.2811304871493885+0j)\n",
      "(-15.258101992433732+0j)\n",
      "(-5.281130415064927+0j)\n",
      "(-15.258102160948924+0j)\n",
      "(-5.281130342653755+0j)\n",
      "(-15.25810231681195+0j)\n",
      "(-5.2811302699200064+0j)\n",
      "(-15.258102460048434+0j)\n",
      "(-5.281130196867851+0j)\n",
      "(-15.25810259068584+0j)\n",
      "(-5.281130123501495+0j)\n",
      "(-15.258102708753452+0j)\n",
      "(-5.2811300498251805+0j)\n",
      "(-15.258102814282356+0j)\n",
      "(-5.281129975843183+0j)\n",
      "(-15.258102907305437+0j)\n",
      "(-5.281129901559809+0j)\n",
      "(-15.25810298785735+0j)\n",
      "(-5.2811298269794+0j)\n",
      "(-15.258103055974512+0j)\n",
      "(-5.2811297521063265+0j)\n",
      "(-15.25810311169508+0j)\n",
      "(-5.281129676944989+0j)\n",
      "(-15.258103155058937+0j)\n",
      "(-5.281129601499819+0j)\n",
      "(-15.258103186107673+0j)\n",
      "(-5.281129525775273+0j)\n",
      "(-15.258103204884566+0j)\n",
      "(-5.281129449775837+0j)\n",
      "(-15.258103211434571+0j)\n",
      "(-5.281129373506023+0j)\n",
      "(-15.258103205804286+0j)\n",
      "(-5.2811292969703665+0j)\n",
      "(-15.258103188041948+0j)\n",
      "(-5.281129220173428+0j)\n",
      "(-15.258103158197407+0j)\n",
      "(-5.281129143119791+0j)\n",
      "(-15.258103116322104+0j)\n",
      "(-5.281129065814061+0j)\n",
      "(-15.258103062469054+0j)\n",
      "(-5.281128988260864+0j)\n",
      "(-15.258102996692823+0j)\n",
      "(-5.281128910464848+0j)\n",
      "(-15.25810291904951+0j)\n",
      "(-5.281128832430678+0j)\n",
      "(-15.258102829596725+0j)\n",
      "(-5.2811287541630385+0j)\n",
      "(-15.258102728393563+0j)\n"
     ]
    },
    {
     "data": {
      "image/png": "[encoded data removed]",
      "text/plain": [
       "<Figure size 640x480 with 1 Axes>"
      ]
     },
     "metadata": {},
     "output_type": "display_data"
    }
   ],
   "source": [
    "deltas = pulse._Pulse__delta_wmod(gs)\n",
    "n: qt.Qobj = ct.get_raised_op('C', ['a'],\n",
    "                     lambda a: a.dag()*a)\n",
    "pulse_arr = pulse_profile.pulse\n",
    "pulse_arr = pulse_arr[::100]\n",
    "\n",
    "detuning_arr = {'A': np.empty(len(pulse_arr)),\n",
    "               'B': np.empty(len(pulse_arr))}\n",
    "for i, p in enumerate(pulse_arr):\n",
    "    H_eff = ct.H + p*n\n",
    "    energies = H_eff.eigenenergies()\n",
    "    energies = energies-energies[0]\n",
    "    w_A = pulse.static_attr.eigenen('ge1') - pulse.static_attr.eigenen('ee0')\n",
    "    w_B = pulse.static_attr.eigenen('ge1') - pulse.static_attr.eigenen('gf0')\n",
    "    detuning_arr['A'][i] = w_A - deltas['A'][i]\n",
    "    detuning_arr['B'][i] = w_B - deltas['B'][i]\n",
    "    if 100<i<300:\n",
    "        print(w_A - deltas['A'][i])\n",
    "        print(w_B - deltas['B'][i])\n",
    "\n",
    "fig_det, ax_det = plt.subplots()\n",
    "ax_det.plot(tlist, detuning_arr['A'], label=r'err $\\omega_A$')\n",
    "ax_det.plot(tlist, detuning_arr['B'], label=r'err $\\omega_B$')\n",
    "ax_det.set_ylabel(r'$\\tilde \\omega_{mod, \\; j} - \\epsilon_j(t)$, (GHz)')\n",
    "ax_det.set_xlabel(r'time (ns)')\n",
    "ax_det.set_title('Frequency Chirp Error')\n",
    "ax_det.legend()\n",
    "plt.show()\n",
    "    \n",
    "    "
   ]
  },
  {
   "cell_type": "code",
   "execution_count": null,
   "id": "d893ea70-6d3f-4279-a9bd-eb5cc82140e5",
   "metadata": {},
   "outputs": [],
   "source": []
  }
 ],
 "metadata": {
  "kernelspec": {
   "display_name": "Python 3 (ipykernel)",
   "language": "python",
   "name": "python3"
  },
  "language_info": {
   "codemirror_mode": {
    "name": "ipython",
    "version": 3
   },
   "file_extension": ".py",
   "mimetype": "text/x-python",
   "name": "python",
   "nbconvert_exporter": "python",
   "pygments_lexer": "ipython3",
   "version": "3.10.6"
  }
 },
 "nbformat": 4,
 "nbformat_minor": 5
}
